{
 "cells": [
  {
   "cell_type": "code",
   "execution_count": 60,
   "metadata": {
    "collapsed": true
   },
   "outputs": [],
   "source": [
    "import pandas as pd\n",
    "import numpy as np\n",
    "import scipy\n",
    "import scipy.stats\n",
    "import os\n",
    "import tools"
   ]
  },
  {
   "cell_type": "code",
   "execution_count": 2,
   "metadata": {
    "collapsed": true
   },
   "outputs": [],
   "source": [
    "data = pd.read_csv('data.csv')"
   ]
  },
  {
   "cell_type": "code",
   "execution_count": 3,
   "metadata": {
    "collapsed": true
   },
   "outputs": [],
   "source": [
    "stats = pd.read_csv('stats.csv')"
   ]
  },
  {
   "cell_type": "code",
   "execution_count": 4,
   "metadata": {},
   "outputs": [
    {
     "data": {
      "text/plain": [
       "Index(['Unnamed: 0', 'filename', 'name', 'hand', 'board', 'pf stack(bb)',\n",
       "       '#pl pf', 'position pf', 'position pf/#pl pf', 'pf bets(bb)', 'pf agg',\n",
       "       'stack/pfpot', 'hand strength pf', 'fl stack(bb)', '#pl fl',\n",
       "       'position fl', 'position fl/#pl fl', 'fl bets(bb)', 'fl bets/pot',\n",
       "       'fl agg', 'stack/flpot', 'hand strength fl', 'bluff flop',\n",
       "       'tr stack(bb)', '#pl tr', 'position tr', 'position tr/#pl tr',\n",
       "       'tr bets(bb)', 'tr bets/pot', 'tr agg', 'stack/trpot',\n",
       "       'hand strength tr', 'bluff turn', 'rv stack(bb)', '#pl rv',\n",
       "       'position rv', 'position rv/#pl rv', 'rv bets(bb)', 'rv bets/pot',\n",
       "       'rv agg', 'stack/rvpot', 'hand strength rv', 'bluff river', 'tot bets',\n",
       "       'tot agg', 'bets/stacks', 'street reached', 'cluster'],\n",
       "      dtype='object')"
      ]
     },
     "execution_count": 4,
     "metadata": {},
     "output_type": "execute_result"
    }
   ],
   "source": [
    "data.columns"
   ]
  },
  {
   "cell_type": "code",
   "execution_count": 5,
   "metadata": {},
   "outputs": [
    {
     "data": {
      "text/plain": [
       "Index(['Unnamed: 0', 'avgstack', 'net', 'foldpf', 'callpf', 'raisepf',\n",
       "       'foldtoraisepf', 'numraisedpf', 'reraisepf', 'foldtoreraisepf',\n",
       "       'numreraisedpf', 'numplayedpf', 'pctseenfl', 'foldfl', 'callfl',\n",
       "       'betfl', 'raisefl', 'foldtoraisefl', 'numraisedfl', 'reraisefl',\n",
       "       'foldtoreraisefl', 'numreraisedfl', 'numplayedfl', 'pctseentr',\n",
       "       'foldtr', 'calltr', 'bettr', 'raisetr', 'foldtoraisetr', 'numraisedtr',\n",
       "       'reraisetr', 'foldtoreraisetr', 'numreraisedtr', 'numplayedtr',\n",
       "       'pctseenrv', 'foldrv', 'callrv', 'betrv', 'raiserv', 'foldtoraiserv',\n",
       "       'numraisedrv', 'reraiserv', 'foldtoreraiserv', 'numreraisedrv',\n",
       "       'numplayedrv', 'pctseensd', 'numplayedsd', 'winpercent', 'bb/100hands'],\n",
       "      dtype='object')"
      ]
     },
     "execution_count": 5,
     "metadata": {},
     "output_type": "execute_result"
    }
   ],
   "source": [
    "stats.columns"
   ]
  },
  {
   "cell_type": "code",
   "execution_count": 10,
   "metadata": {},
   "outputs": [
    {
     "data": {
      "text/plain": [
       "0.81714695692062378"
      ]
     },
     "execution_count": 10,
     "metadata": {},
     "output_type": "execute_result"
    }
   ],
   "source": [
    "tools.startinghandsequity(['As','Ad'], ['Ks','Kh'])"
   ]
  },
  {
   "cell_type": "code",
   "execution_count": 12,
   "metadata": {},
   "outputs": [
    {
     "name": "stdout",
     "output_type": "stream",
     "text": [
      "object\n",
      "         Unnamed: 0  filename   name   hand  board  pf stack(bb)  #pl pf  \\\n",
      "cluster                                                                    \n",
      "0             27483     27483  27483  27483  27412         27483   27483   \n",
      "1             14630     14630  14630  14630  14539         14630   14630   \n",
      "2             82886     82886  82886  82886  82852         82886   82886   \n",
      "3              7821      7821   7821   7821   7779          7821    7821   \n",
      "\n",
      "         position pf  position pf/#pl pf  pf bets(bb)       ...        \\\n",
      "cluster                                                     ...         \n",
      "0              27483               27483        27483       ...         \n",
      "1              14630               14630        14630       ...         \n",
      "2              82886               82886        82886       ...         \n",
      "3               7821                7821         7821       ...         \n",
      "\n",
      "         rv bets(bb)  rv bets/pot  rv agg  stack/rvpot  hand strength rv  \\\n",
      "cluster                                                                    \n",
      "0              27483        27483   27483        27483             27483   \n",
      "1              14630        14630   14630        14630             14630   \n",
      "2              82886        82886   82886        82886             82886   \n",
      "3               7821         7821    7821         7821              7821   \n",
      "\n",
      "         bluff river  tot bets  tot agg  bets/stacks  street reached  \n",
      "cluster                                                               \n",
      "0              27483     27483    27483        27483           27483  \n",
      "1              14630     14630    14630        14630           14630  \n",
      "2              82886     82886    82886        82886           82886  \n",
      "3               7821      7821     7821         7821            7821  \n",
      "\n",
      "[4 rows x 47 columns]\n",
      "   Unnamed: 0                                           filename         name  \\\n",
      "0           0  data/(PRR) Kajsa (short) - 10-0.50-1-USD-NoLim...  Play0rLeave   \n",
      "1           1  data/(PRR) Kajsa (short) - 10-0.50-1-USD-NoLim...  Pragmatik13   \n",
      "2           2  data/(PRR) Kajsa (short) - 10-0.50-1-USD-NoLim...  Play0rLeave   \n",
      "3           3  data/(PRR) Kajsa (short) - 10-0.50-1-USD-NoLim...   jabster579   \n",
      "4           4  data/(PRR) Kajsa (short) - 10-0.50-1-USD-NoLim...      Parcker   \n",
      "\n",
      "           hand                           board  pf stack(bb)  #pl pf  \\\n",
      "0  ['2c', '8h']  ['8s', 'Tc', 'Ks', '9c', '3h']         50.00       5   \n",
      "1  ['Kh', '8h']  ['Qc', 'Tc', '4c', 'Jd', 'Qh']         17.50       6   \n",
      "2  ['2d', 'Ad']  ['Qc', 'Tc', '4c', 'Jd', 'Qh']         50.88       6   \n",
      "3  ['8h', 'Td']  ['5s', '8c', 'Qh', '7h', '5d']         24.30       6   \n",
      "4  ['9h', '9c']  ['5s', '8c', 'Qh', '7h', '5d']         50.00       6   \n",
      "\n",
      "   position pf  position pf/#pl pf  pf bets(bb)   ...     rv bets/pot  rv agg  \\\n",
      "0            3                0.75          1.0   ...            0.00     0.0   \n",
      "1            4                0.80         17.5   ...            0.00     0.0   \n",
      "2            0                0.00         17.5   ...            0.00     0.0   \n",
      "3            4                0.80          2.8   ...            2.57    15.7   \n",
      "4            3                0.60          2.8   ...            2.57     0.0   \n",
      "\n",
      "   stack/rvpot  hand strength rv  bluff river  tot bets  tot agg  bets/stacks  \\\n",
      "0        19.60          0.496970            0       1.0      0.0         0.02   \n",
      "1         0.00          0.282828            0      17.5     16.5         1.00   \n",
      "2         0.94          0.365657            0      17.5      2.0         0.34   \n",
      "3         0.00          0.647475            0      24.3     21.5         1.00   \n",
      "4         0.52          0.732323            0      24.3      2.8         0.49   \n",
      "\n",
      "   street reached  cluster  \n",
      "0               3        2  \n",
      "1               0        2  \n",
      "2               0        2  \n",
      "3               3        3  \n",
      "4               3        2  \n",
      "\n",
      "[5 rows x 48 columns]\n",
      "shape (132820, 48)\n",
      "Index(['Unnamed: 0', 'filename', 'name', 'hand', 'board', 'pf stack(bb)',\n",
      "       '#pl pf', 'position pf', 'position pf/#pl pf', 'pf bets(bb)', 'pf agg',\n",
      "       'stack/pfpot', 'hand strength pf', 'fl stack(bb)', '#pl fl',\n",
      "       'position fl', 'position fl/#pl fl', 'fl bets(bb)', 'fl bets/pot',\n",
      "       'fl agg', 'stack/flpot', 'hand strength fl', 'bluff flop',\n",
      "       'tr stack(bb)', '#pl tr', 'position tr', 'position tr/#pl tr',\n",
      "       'tr bets(bb)', 'tr bets/pot', 'tr agg', 'stack/trpot',\n",
      "       'hand strength tr', 'bluff turn', 'rv stack(bb)', '#pl rv',\n",
      "       'position rv', 'position rv/#pl rv', 'rv bets(bb)', 'rv bets/pot',\n",
      "       'rv agg', 'stack/rvpot', 'hand strength rv', 'bluff river', 'tot bets',\n",
      "       'tot agg', 'bets/stacks', 'street reached', 'cluster',\n",
      "       'hand strength ^2', 'tot bets/stack', 'log tot bets',\n",
      "       'log tot bets/stack', 'log tot agg'],\n",
      "      dtype='object')\n",
      "stack/rvpot          -0.400788\n",
      "stack/trpot          -0.304412\n",
      "stack/flpot          -0.208482\n",
      "stack/pfpot          -0.106464\n",
      "rv stack(bb)         -0.029514\n",
      "#pl rv               -0.008665\n",
      "cluster              -0.006183\n",
      "position pf/#pl pf   -0.002075\n",
      "tr stack(bb)          0.000598\n",
      "Unnamed: 0            0.002570\n",
      "position pf           0.004979\n",
      "fl stack(bb)          0.013410\n",
      "bluff flop            0.017319\n",
      "pf stack(bb)          0.017456\n",
      "#pl pf                0.029216\n",
      "#pl tr                0.034177\n",
      "position rv           0.039599\n",
      "position fl/#pl fl    0.040128\n",
      "position rv/#pl rv    0.043669\n",
      "position tr/#pl tr    0.043822\n",
      "pf agg                0.046673\n",
      "position tr           0.052321\n",
      "position fl           0.077141\n",
      "pf bets(bb)           0.094941\n",
      "#pl fl                0.105964\n",
      "hand strength pf      0.129926\n",
      "fl agg                0.150720\n",
      "tr agg                0.207214\n",
      "fl bets/pot           0.234269\n",
      "fl bets(bb)           0.236439\n",
      "tr bets/pot           0.290073\n",
      "hand strength fl      0.297123\n",
      "tr bets(bb)           0.297326\n",
      "rv agg                0.327960\n",
      "tot agg               0.346988\n",
      "rv bets(bb)           0.400942\n",
      "rv bets/pot           0.404953\n",
      "bets/stacks           0.414784\n",
      "tot bets/stack        0.414913\n",
      "tot bets              0.417554\n",
      "log tot agg           0.435533\n",
      "log tot bets/stack    0.513897\n",
      "log tot bets          0.567295\n",
      "hand strength tr      0.568557\n",
      "hand strength rv      0.975030\n",
      "hand strength ^2      1.000000\n",
      "bluff turn                 NaN\n",
      "bluff river                NaN\n",
      "street reached             NaN\n",
      "Name: hand strength ^2, dtype: float64\n",
      "Series([], Name: hand strength rv, dtype: float64)\n",
      "0.463212549388\n",
      "{}\n",
      "0.465736586578\n",
      "median: 0.126604509963\n",
      "std: 0.18520882036878936\n"
     ]
    },
    {
     "data": {
      "image/png": "[encoded data removed]",
      "text/plain": [
       "<matplotlib.figure.Figure at 0x1138d0940>"
      ]
     },
     "metadata": {},
     "output_type": "display_data"
    },
    {
     "data": {
      "image/png": "[encoded data removed]",
      "text/plain": [
       "<matplotlib.figure.Figure at 0x1138cb438>"
      ]
     },
     "metadata": {},
     "output_type": "display_data"
    }
   ],
   "source": [
    "import pandas as pd\n",
    "import numpy as np\n",
    "from sklearn.ensemble import GradientBoostingRegressor, RandomForestRegressor\n",
    "from sklearn.model_selection import train_test_split, GridSearchCV\n",
    "from sklearn.pipeline import Pipeline\n",
    "from sklearn.preprocessing import StandardScaler\n",
    "import matplotlib.pyplot as plt\n",
    "\n",
    "%matplotlib inline\n",
    "df = pd.read_csv('data.csv')\n",
    "\n",
    "#print(df['name'].value_counts())\n",
    "print(df['board'].dtypes)\n",
    "print(df.groupby('cluster').count())\n",
    "#df = df[df['cluster'] == 3]\n",
    "print(df.head())\n",
    "print('shape', df.shape)\n",
    "#df['board texture'] = df['board'].apply(hr.boardtexture)\n",
    "df['hand strength ^2'] = df['hand strength rv'] ** 2\n",
    "df['tot bets/stack'] = df['tot bets']/df['pf stack(bb)']\n",
    "df['log tot bets'] = np.log(df['tot bets'])\n",
    "df['log tot bets/stack'] = np.log(df['tot bets/stack'])\n",
    "df['log tot agg'] = np.sqrt(df['tot agg'])\n",
    "#df['pf agg'] = np.sqrt(df['pf agg'])\n",
    "#df['rv agg'] = np.sqrt(df['rv agg'])\n",
    "#df['tr agg'] = np.sqrt(df['tr agg'])\n",
    "#df['fl agg'] = np.sqrt(df['fl agg'])\n",
    "#df['rv bets(bb)'] = np.sqrt(df['rv bets(bb)'])\n",
    "#df['tr bets(bb)'] = np.sqrt(df['tr bets(bb)'])\n",
    "#df['fl bets(bb)'] = np.sqrt(df['fl bets(bb)'])\n",
    "#df['pf bets(bb)'] = np.sqrt(df['pf bets(bb)'])\n",
    "#df['rv bets/pot'] = np.sqrt(df['rv bets/pot'])\n",
    "#df['tr bets/pot'] = np.sqrt(df['tr bets/pot'])\n",
    "#df['fl bets/pot'] = np.sqrt(df['fl bets/pot'])\n",
    "\n",
    "#print(df[df['hand strength ^2'] == 0])\n",
    "print(df.columns)\n",
    "df2 = df\n",
    "df2 = df2[df2['street reached'] == 2]\n",
    "df = df.dropna(axis = 0)\n",
    "df = df[df['bluff river'] == 0]\n",
    "df = df[df['bluff turn'] == 0]\n",
    "#df = df[df['bluff flop'] == 0]\n",
    "df = df[df['street reached'] == 3]\n",
    "#df = df[df['pf stack(bb)'] > 80]\n",
    "#df = df[df['straight draws flop'] == 0]\n",
    "#df = df[df['flush draws flop'] == 0]\n",
    "#df = df[df['straight draws turn'] == 0]\n",
    "#df = df[df['flush draws turn'] == 0]\n",
    "#print(df['bluff river'].value_counts())\n",
    "print(df.corr()['hand strength ^2'].sort_values())\n",
    "print(df[df['hand strength rv'].isnull()]['hand strength rv'])\n",
    "df['hand strength ^2'].plot.hist()\n",
    "#df['log tot bets'].plot.hist()\n",
    "ax = df2.plot.scatter(x = 'hand strength ^2', y = 'log tot bets', s = 1, color = 'red')\n",
    "df.plot.scatter(x = 'hand strength ^2', y = 'log tot bets', s = 1, color = 'blue', ax = ax)\n",
    "\n",
    "X = df.drop(['filename','Unnamed: 0','street reached','name',\n",
    "       'hand','board','hand strength fl','hand strength tr','hand strength rv',\n",
    "       'hand strength ^2','bluff flop','bluff turn',\n",
    "       'bluff river'], axis = 1)\n",
    "#X = df[['log tot bets','log tot bets/stack','log tot agg',\n",
    "#       'tot bets/stack','tot bets','rv bets(bb)','rv bets/pot',\n",
    "#       'fl bets(bb)','fl bets/pot','tot agg','tr bets(bb)',\n",
    "#       'tr bets/pot']]\n",
    "y = df['hand strength ^2']\n",
    "#print(X.columns)\n",
    "#print(y)\n",
    "X_train, X_test, y_train, y_test = train_test_split(X,y)\n",
    "ss = StandardScaler()\n",
    "gbr = GradientBoostingRegressor()\n",
    "rfr = RandomForestRegressor()\n",
    "pipe = Pipeline([\n",
    "    ('ss', ss),\n",
    "    ('gbr', gbr)\n",
    "])\n",
    "params = {\n",
    "        \n",
    "}\n",
    "gs = GridSearchCV(pipe, param_grid = params)\n",
    "gs.fit(X_train, y_train)\n",
    "\n",
    "print(gs.best_score_)\n",
    "print(gs.best_params_)\n",
    "print(gs.score(X_test, y_test))\n",
    "\n",
    "z = pd.DataFrame(gs.predict(X_test))\n",
    "z['test actual'] = list(y_test)\n",
    "\n",
    "#z[0] = np.sqrt(z[0])\n",
    "#z['test actual'] = np.sqrt(z['test actual'])\n",
    "z['diff'] = z[0] - z['test actual']\n",
    "print(\"median:\", np.median(np.abs(z['diff'])))\n",
    "print(\"std:\", np.std(z['diff']))"
   ]
  },
  {
   "cell_type": "code",
   "execution_count": 137,
   "metadata": {},
   "outputs": [
    {
     "data": {
      "text/plain": [
       "<matplotlib.axes._subplots.AxesSubplot at 0x110bc6e10>"
      ]
     },
     "execution_count": 137,
     "metadata": {},
     "output_type": "execute_result"
    },
    {
     "data": {
      "image/png": "[encoded data removed]",
      "text/plain": [
       "<matplotlib.figure.Figure at 0x118cb1cf8>"
      ]
     },
     "metadata": {},
     "output_type": "display_data"
    }
   ],
   "source": [
    "z[(z[0]<=1) & (z[0]>.85)]['diff'].plot.hist()\n",
    "#z['diff'].plot.hist()"
   ]
  },
  {
   "cell_type": "code",
   "execution_count": 56,
   "metadata": {},
   "outputs": [
    {
     "data": {
      "text/plain": [
       "<matplotlib.axes._subplots.AxesSubplot at 0x1136fd128>"
      ]
     },
     "execution_count": 56,
     "metadata": {},
     "output_type": "execute_result"
    },
    {
     "data": {
      "image/png": "[encoded data removed]",
      "text/plain": [
       "<matplotlib.figure.Figure at 0x113793978>"
      ]
     },
     "metadata": {},
     "output_type": "display_data"
    }
   ],
   "source": [
    "z[0].plot.hist()"
   ]
  },
  {
   "cell_type": "code",
   "execution_count": 57,
   "metadata": {},
   "outputs": [
    {
     "data": {
      "text/plain": [
       "<matplotlib.axes._subplots.AxesSubplot at 0x11379a6d8>"
      ]
     },
     "execution_count": 57,
     "metadata": {},
     "output_type": "execute_result"
    },
    {
     "data": {
      "image/png": "[encoded data removed]",
      "text/plain": [
       "<matplotlib.figure.Figure at 0x113dc4a58>"
      ]
     },
     "metadata": {},
     "output_type": "display_data"
    }
   ],
   "source": [
    "z['test actual'].plot.hist()"
   ]
  },
  {
   "cell_type": "code",
   "execution_count": 146,
   "metadata": {},
   "outputs": [
    {
     "name": "stderr",
     "output_type": "stream",
     "text": [
      "/Users/Vince/anaconda3/lib/python3.6/site-packages/scipy/stats/_continuous_distns.py:427: RuntimeWarning: invalid value encountered in sqrt\n",
      "  sk = 2*(b-a)*np.sqrt(a + b + 1) / (a + b + 2) / np.sqrt(a*b)\n",
      "/Users/Vince/anaconda3/lib/python3.6/site-packages/scipy/stats/_distn_infrastructure.py:2306: RuntimeWarning: invalid value encountered in double_scalars\n",
      "  Lhat = muhat - Shat*mu\n"
     ]
    },
    {
     "data": {
      "image/png": "[encoded data removed]",
      "text/plain": [
       "<matplotlib.figure.Figure at 0x117161860>"
      ]
     },
     "metadata": {},
     "output_type": "display_data"
    }
   ],
   "source": [
    "X = z[(z[0]<=1) & (z[0]>.85)]['diff']\n",
    "\n",
    "\n",
    "dist_names = ['gamma', 'beta', 'rayleigh', 'norm', 'pareto']\n",
    "\n",
    "for dist_name in dist_names:\n",
    "    dist = getattr(scipy.stats, dist_name)\n",
    "    param = dist.fit(X)\n",
    "    pdf_fitted = dist.pdf(np.linspace(0,1,len(X)), *param[:-2], loc=param[-2], scale=param[-1]) * max(X) \n",
    "\n",
    "    plt.plot(np.linspace(0,1,len(X)), pdf_fitted, label=dist_name)\n",
    "\n",
    "#param = rayleigh.fit(z['test actual'])\n",
    "plt.legend(loc='upper right')\n",
    "plt.show()\n",
    "\n"
   ]
  },
  {
   "cell_type": "code",
   "execution_count": 84,
   "metadata": {
    "scrolled": true
   },
   "outputs": [
    {
     "name": "stdout",
     "output_type": "stream",
     "text": [
      "[  0.00000000e+00   5.22138680e-05   1.04427736e-04 ...,   9.99895572e-01\n",
      "   9.99947786e-01   1.00000000e+00]\n"
     ]
    }
   ],
   "source": [
    "print(np.linspace(0,1,len(z['test actual'])))"
   ]
  },
  {
   "cell_type": "code",
   "execution_count": 92,
   "metadata": {},
   "outputs": [
    {
     "name": "stdout",
     "output_type": "stream",
     "text": [
      "[ 2.3456346   2.34518413  2.34473379 ...,  0.22647164  0.226453    0.22643435]\n"
     ]
    }
   ],
   "source": [
    "print(pdf_fitted)"
   ]
  },
  {
   "cell_type": "code",
   "execution_count": 135,
   "metadata": {},
   "outputs": [
    {
     "name": "stdout",
     "output_type": "stream",
     "text": [
      "(408.31635200354503, -4.5951836632656562, 0.012639064369167979)\n"
     ]
    },
    {
     "ename": "TypeError",
     "evalue": "_parse_args() missing 1 required positional argument: 'a'",
     "output_type": "error",
     "traceback": [
      "\u001b[0;31m---------------------------------------------------------------------------\u001b[0m",
      "\u001b[0;31mTypeError\u001b[0m                                 Traceback (most recent call last)",
      "\u001b[0;32m<ipython-input-135-5038e85645c7>\u001b[0m in \u001b[0;36m<module>\u001b[0;34m()\u001b[0m\n\u001b[1;32m      6\u001b[0m \u001b[0mparam\u001b[0m \u001b[0;34m=\u001b[0m \u001b[0mscipy\u001b[0m\u001b[0;34m.\u001b[0m\u001b[0mstats\u001b[0m\u001b[0;34m.\u001b[0m\u001b[0mgamma\u001b[0m\u001b[0;34m.\u001b[0m\u001b[0mfit\u001b[0m\u001b[0;34m(\u001b[0m\u001b[0mX\u001b[0m\u001b[0;34m)\u001b[0m\u001b[0;34m\u001b[0m\u001b[0m\n\u001b[1;32m      7\u001b[0m \u001b[0mprint\u001b[0m\u001b[0;34m(\u001b[0m\u001b[0mparam\u001b[0m\u001b[0;34m)\u001b[0m\u001b[0;34m\u001b[0m\u001b[0m\n\u001b[0;32m----> 8\u001b[0;31m \u001b[0mpdf_fitted\u001b[0m \u001b[0;34m=\u001b[0m \u001b[0mscipy\u001b[0m\u001b[0;34m.\u001b[0m\u001b[0mstats\u001b[0m\u001b[0;34m.\u001b[0m\u001b[0mgamma\u001b[0m\u001b[0;34m.\u001b[0m\u001b[0mpdf\u001b[0m\u001b[0;34m(\u001b[0m\u001b[0mnp\u001b[0m\u001b[0;34m.\u001b[0m\u001b[0mlinspace\u001b[0m\u001b[0;34m(\u001b[0m\u001b[0;36m0\u001b[0m\u001b[0;34m,\u001b[0m\u001b[0;36m1\u001b[0m\u001b[0;34m,\u001b[0m\u001b[0mlen\u001b[0m\u001b[0;34m(\u001b[0m\u001b[0mX\u001b[0m\u001b[0;34m)\u001b[0m\u001b[0;34m)\u001b[0m\u001b[0;34m,\u001b[0m \u001b[0mloc\u001b[0m\u001b[0;34m=\u001b[0m\u001b[0mparam\u001b[0m\u001b[0;34m[\u001b[0m\u001b[0;34m-\u001b[0m\u001b[0;36m2\u001b[0m\u001b[0;34m]\u001b[0m\u001b[0;34m,\u001b[0m \u001b[0mscale\u001b[0m\u001b[0;34m=\u001b[0m\u001b[0mparam\u001b[0m\u001b[0;34m[\u001b[0m\u001b[0;34m-\u001b[0m\u001b[0;36m1\u001b[0m\u001b[0;34m]\u001b[0m\u001b[0;34m)\u001b[0m \u001b[0;34m*\u001b[0m \u001b[0;36m1000\u001b[0m\u001b[0;34m\u001b[0m\u001b[0m\n\u001b[0m\u001b[1;32m      9\u001b[0m \u001b[0mplt\u001b[0m\u001b[0;34m.\u001b[0m\u001b[0mplot\u001b[0m\u001b[0;34m(\u001b[0m\u001b[0mnp\u001b[0m\u001b[0;34m.\u001b[0m\u001b[0mlinspace\u001b[0m\u001b[0;34m(\u001b[0m\u001b[0;36m0\u001b[0m\u001b[0;34m,\u001b[0m\u001b[0;36m1\u001b[0m\u001b[0;34m,\u001b[0m\u001b[0mlen\u001b[0m\u001b[0;34m(\u001b[0m\u001b[0mX\u001b[0m\u001b[0;34m)\u001b[0m\u001b[0;34m)\u001b[0m\u001b[0;34m,\u001b[0m\u001b[0mpdf_fitted\u001b[0m\u001b[0;34m,\u001b[0m \u001b[0mlabel\u001b[0m\u001b[0;34m=\u001b[0m\u001b[0mdist_name\u001b[0m\u001b[0;34m)\u001b[0m\u001b[0;34m\u001b[0m\u001b[0m\n",
      "\u001b[0;32m~/anaconda3/lib/python3.6/site-packages/scipy/stats/_distn_infrastructure.py\u001b[0m in \u001b[0;36mpdf\u001b[0;34m(self, x, *args, **kwds)\u001b[0m\n\u001b[1;32m   1646\u001b[0m \u001b[0;34m\u001b[0m\u001b[0m\n\u001b[1;32m   1647\u001b[0m         \"\"\"\n\u001b[0;32m-> 1648\u001b[0;31m         \u001b[0margs\u001b[0m\u001b[0;34m,\u001b[0m \u001b[0mloc\u001b[0m\u001b[0;34m,\u001b[0m \u001b[0mscale\u001b[0m \u001b[0;34m=\u001b[0m \u001b[0mself\u001b[0m\u001b[0;34m.\u001b[0m\u001b[0m_parse_args\u001b[0m\u001b[0;34m(\u001b[0m\u001b[0;34m*\u001b[0m\u001b[0margs\u001b[0m\u001b[0;34m,\u001b[0m \u001b[0;34m**\u001b[0m\u001b[0mkwds\u001b[0m\u001b[0;34m)\u001b[0m\u001b[0;34m\u001b[0m\u001b[0m\n\u001b[0m\u001b[1;32m   1649\u001b[0m         \u001b[0mx\u001b[0m\u001b[0;34m,\u001b[0m \u001b[0mloc\u001b[0m\u001b[0;34m,\u001b[0m \u001b[0mscale\u001b[0m \u001b[0;34m=\u001b[0m \u001b[0mmap\u001b[0m\u001b[0;34m(\u001b[0m\u001b[0masarray\u001b[0m\u001b[0;34m,\u001b[0m \u001b[0;34m(\u001b[0m\u001b[0mx\u001b[0m\u001b[0;34m,\u001b[0m \u001b[0mloc\u001b[0m\u001b[0;34m,\u001b[0m \u001b[0mscale\u001b[0m\u001b[0;34m)\u001b[0m\u001b[0;34m)\u001b[0m\u001b[0;34m\u001b[0m\u001b[0m\n\u001b[1;32m   1650\u001b[0m         \u001b[0margs\u001b[0m \u001b[0;34m=\u001b[0m \u001b[0mtuple\u001b[0m\u001b[0;34m(\u001b[0m\u001b[0mmap\u001b[0m\u001b[0;34m(\u001b[0m\u001b[0masarray\u001b[0m\u001b[0;34m,\u001b[0m \u001b[0margs\u001b[0m\u001b[0;34m)\u001b[0m\u001b[0;34m)\u001b[0m\u001b[0;34m\u001b[0m\u001b[0m\n",
      "\u001b[0;31mTypeError\u001b[0m: _parse_args() missing 1 required positional argument: 'a'"
     ]
    },
    {
     "data": {
      "image/png": "[encoded data removed]",
      "text/plain": [
       "<matplotlib.figure.Figure at 0x118909b38>"
      ]
     },
     "metadata": {},
     "output_type": "display_data"
    }
   ],
   "source": [
    "X = z['test actual']\n",
    "\n",
    "h = plt.hist(X, bins = 20,color='blue')\n",
    "dist_names = ['gamma', 'beta', 'rayleigh', 'norm', 'pareto']\n",
    "\n",
    "param = scipy.stats.gamma.fit(X)\n",
    "print(param)\n",
    "pdf_fitted = scipy.stats.gamma.pdf(np.linspace(0,1,len(X)), loc=param[-2], scale=param[-1]) * 1000\n",
    "plt.plot(np.linspace(0,1,len(X)),pdf_fitted, label=dist_name)"
   ]
  },
  {
   "cell_type": "code",
   "execution_count": 117,
   "metadata": {},
   "outputs": [
    {
     "data": {
      "text/plain": [
       "[<matplotlib.lines.Line2D at 0x119be1f98>]"
      ]
     },
     "execution_count": 117,
     "metadata": {},
     "output_type": "execute_result"
    },
    {
     "data": {
      "image/png": "[encoded data removed]",
      "text/plain": [
       "<matplotlib.figure.Figure at 0x1199de278>"
      ]
     },
     "metadata": {},
     "output_type": "display_data"
    }
   ],
   "source": [
    "plt.plot(np.linspace(0,1,len(z['test actual'])),pdf_fitted, label=dist_name)"
   ]
  },
  {
   "cell_type": "code",
   "execution_count": 93,
   "metadata": {},
   "outputs": [
    {
     "data": {
      "image/png": "[encoded data removed]",
      "text/plain": [
       "<matplotlib.figure.Figure at 0x1089badd8>"
      ]
     },
     "metadata": {},
     "output_type": "display_data"
    }
   ],
   "source": [
    "h = plt.hist(pdf_fitted, bins = 20,color='blue')"
   ]
  },
  {
   "cell_type": "code",
   "execution_count": 147,
   "metadata": {
    "collapsed": true
   },
   "outputs": [],
   "source": [
    "from scipy.stats import gamma"
   ]
  },
  {
   "cell_type": "code",
   "execution_count": 154,
   "metadata": {},
   "outputs": [
    {
     "data": {
      "text/plain": [
       "[<matplotlib.lines.Line2D at 0x1175c9208>]"
      ]
     },
     "execution_count": 154,
     "metadata": {},
     "output_type": "execute_result"
    },
    {
     "data": {
      "image/png": "[encoded data removed]",
      "text/plain": [
       "<matplotlib.figure.Figure at 0x1175c91d0>"
      ]
     },
     "metadata": {},
     "output_type": "display_data"
    }
   ],
   "source": [
    "fig, ax = plt.subplots(1,1)\n",
    "a = 1.99\n",
    "mean, var, skew, kurt = gamma.stats(a, moments='mvsk')\n",
    "x = np.linspace(gamma.ppf(0.01, a), gamma.ppf(0.99, a), 100)\n",
    "ax.plot(x, gamma.pdf(x, a),'r-', lw=5, alpha=0.6)"
   ]
  },
  {
   "cell_type": "code",
   "execution_count": 161,
   "metadata": {},
   "outputs": [],
   "source": [
    "rv = gamma(a)\n",
    "ax.plot(x, rv.pdf(x), 'k-', lw=2, label='frozen pdf')\n",
    "\n",
    "vals = gamma.ppf([0.001, 0.5, 0.999], a)\n",
    "np.allclose([0.001, 0.5, 0.999], gamma.cdf(vals, a))\n",
    "\n",
    "r = gamma.rvs(a, size=1000)\n",
    "\n",
    "ax.hist(r, normed=True, histtype='stepfilled', alpha=0.5)\n",
    "ax.legend(loc='best', frameon=False)\n",
    "plt.show()"
   ]
  },
  {
   "cell_type": "code",
   "execution_count": 267,
   "metadata": {},
   "outputs": [
    {
     "name": "stdout",
     "output_type": "stream",
     "text": [
      "1.76917418999 -0.200319951797 0.109099519321\n"
     ]
    }
   ],
   "source": [
    "pred = .9\n",
    "\n",
    "X = z[(z[0]<=pred + .1) & (z[0]>pred - .1)]['diff']\n",
    "\n",
    "fit_alpha, fit_loc, fit_beta=gamma.fit(X)\n",
    "print(fit_alpha, fit_loc, fit_beta)\n",
    "# (5.0833692504230008, 100.08697963283467, 21.739518937816108)\n",
    "\n",
    "#print(alpha, loc, beta)"
   ]
  },
  {
   "cell_type": "code",
   "execution_count": 285,
   "metadata": {},
   "outputs": [
    {
     "data": {
      "image/png": "[encoded data removed]",
      "text/plain": [
       "<matplotlib.figure.Figure at 0x119ffc320>"
      ]
     },
     "metadata": {},
     "output_type": "display_data"
    }
   ],
   "source": [
    "d = gamma.rvs(fit_alpha, loc=fit_loc, scale=fit_beta, size=700)\n",
    "\n",
    "h = plt.hist(X, bins = 10,color='blue')"
   ]
  },
  {
   "cell_type": "code",
   "execution_count": 286,
   "metadata": {},
   "outputs": [
    {
     "data": {
      "image/png": "[encoded data removed]",
      "text/plain": [
       "<matplotlib.figure.Figure at 0x110be42b0>"
      ]
     },
     "metadata": {},
     "output_type": "display_data"
    }
   ],
   "source": [
    "h = plt.hist(d, bins = 10,color='blue')"
   ]
  },
  {
   "cell_type": "code",
   "execution_count": null,
   "metadata": {},
   "outputs": [],
   "source": []
  },
  {
   "cell_type": "code",
   "execution_count": 282,
   "metadata": {},
   "outputs": [
    {
     "data": {
      "text/plain": [
       "-0.20031995179661688"
      ]
     },
     "execution_count": 282,
     "metadata": {},
     "output_type": "execute_result"
    }
   ],
   "source": [
    "gamma.ppf(0,fit_alpha, loc=fit_loc, scale=fit_beta)"
   ]
  },
  {
   "cell_type": "code",
   "execution_count": 306,
   "metadata": {
    "collapsed": true
   },
   "outputs": [],
   "source": [
    "pfequity = pd.read_csv('./tables/totalequity.csv')#adjust pfequity from 0-1\n",
    "pfequity = pfequity.drop('Unnamed: 0', axis = 1)\n",
    "pfequity['1'] = pfequity['1'] - pfequity['1'].min()\n",
    "pfequity['1'] = pfequity['1']/pfequity['1'].max()\n",
    "pfequity = pfequity.set_index(['0'])\n",
    "\n",
    "allpfequity = pd.read_csv('./tables/allequity.csv')\n",
    "allpfequity = allpfequity.set_index('0')"
   ]
  },
  {
   "cell_type": "code",
   "execution_count": 307,
   "metadata": {},
   "outputs": [
    {
     "name": "stdout",
     "output_type": "stream",
     "text": [
      "            1\n",
      "0            \n",
      "AKs  0.664006\n",
      "AQs  0.647740\n",
      "AJs  0.631291\n",
      "ATs  0.614975\n",
      "A9s  0.579436\n",
      "A8s  0.561447\n",
      "A7s  0.541316\n",
      "A6s  0.519630\n",
      "A5s  0.517569\n",
      "A4s  0.500936\n",
      "A3s  0.486522\n",
      "A2s  0.471640\n",
      "AA   1.000000\n",
      "AKo  0.632580\n",
      "AQo  0.615332\n",
      "AJo  0.597850\n",
      "ATo  0.580485\n",
      "A9o  0.542448\n",
      "A8o  0.523135\n",
      "A7o  0.501505\n",
      "A6o  0.478177\n",
      "A5o  0.475878\n",
      "A4o  0.457753\n",
      "A3o  0.441996\n",
      "A2o  0.425692\n",
      "KQs  0.595574\n",
      "KJs  0.578841\n",
      "KTs  0.562870\n",
      "K9s  0.527876\n",
      "K8s  0.494698\n",
      "..        ...\n",
      "76o  0.186998\n",
      "75o  0.151461\n",
      "74o  0.115317\n",
      "73o  0.080414\n",
      "72o  0.044366\n",
      "65s  0.199466\n",
      "64s  0.165939\n",
      "63s  0.133698\n",
      "62s  0.100518\n",
      "66   0.600810\n",
      "65o  0.139576\n",
      "64o  0.103489\n",
      "63o  0.068777\n",
      "62o  0.033024\n",
      "54s  0.166864\n",
      "53s  0.135013\n",
      "52s  0.102170\n",
      "55   0.545865\n",
      "54o  0.104778\n",
      "53o  0.070486\n",
      "52o  0.035092\n",
      "43s  0.116495\n",
      "42s  0.084006\n",
      "44   0.485112\n",
      "43o  0.050758\n",
      "42o  0.015764\n",
      "32s  0.069175\n",
      "33   0.423752\n",
      "32o  0.000000\n",
      "22   0.361732\n",
      "\n",
      "[169 rows x 1 columns]\n"
     ]
    }
   ],
   "source": [
    "print(pfequity)"
   ]
  },
  {
   "cell_type": "code",
   "execution_count": 322,
   "metadata": {
    "collapsed": true
   },
   "outputs": [],
   "source": [
    "import itertools"
   ]
  },
  {
   "cell_type": "code",
   "execution_count": 316,
   "metadata": {},
   "outputs": [],
   "source": [
    "pfequity = pfequity.sort_values('1', ascending = False)"
   ]
  },
  {
   "cell_type": "code",
   "execution_count": 318,
   "metadata": {},
   "outputs": [],
   "source": [
    "pfequity['rank'] = np.arange(len(pfequity['1']))"
   ]
  },
  {
   "cell_type": "code",
   "execution_count": 319,
   "metadata": {},
   "outputs": [
    {
     "data": {
      "text/html": [
       "<div>\n",
       "<style>\n",
       "    .dataframe thead tr:only-child th {\n",
       "        text-align: right;\n",
       "    }\n",
       "\n",
       "    .dataframe thead th {\n",
       "        text-align: left;\n",
       "    }\n",
       "\n",
       "    .dataframe tbody tr th {\n",
       "        vertical-align: top;\n",
       "    }\n",
       "</style>\n",
       "<table border=\"1\" class=\"dataframe\">\n",
       "  <thead>\n",
       "    <tr style=\"text-align: right;\">\n",
       "      <th></th>\n",
       "      <th>1</th>\n",
       "      <th>rank</th>\n",
       "    </tr>\n",
       "    <tr>\n",
       "      <th>0</th>\n",
       "      <th></th>\n",
       "      <th></th>\n",
       "    </tr>\n",
       "  </thead>\n",
       "  <tbody>\n",
       "    <tr>\n",
       "      <th>AA</th>\n",
       "      <td>1.000000</td>\n",
       "      <td>0</td>\n",
       "    </tr>\n",
       "    <tr>\n",
       "      <th>KK</th>\n",
       "      <td>0.949462</td>\n",
       "      <td>1</td>\n",
       "    </tr>\n",
       "    <tr>\n",
       "      <th>QQ</th>\n",
       "      <td>0.904836</td>\n",
       "      <td>2</td>\n",
       "    </tr>\n",
       "    <tr>\n",
       "      <th>JJ</th>\n",
       "      <td>0.860323</td>\n",
       "      <td>3</td>\n",
       "    </tr>\n",
       "    <tr>\n",
       "      <th>TT</th>\n",
       "      <td>0.815565</td>\n",
       "      <td>4</td>\n",
       "    </tr>\n",
       "    <tr>\n",
       "      <th>99</th>\n",
       "      <td>0.761794</td>\n",
       "      <td>5</td>\n",
       "    </tr>\n",
       "    <tr>\n",
       "      <th>88</th>\n",
       "      <td>0.708856</td>\n",
       "      <td>6</td>\n",
       "    </tr>\n",
       "    <tr>\n",
       "      <th>AKs</th>\n",
       "      <td>0.664006</td>\n",
       "      <td>7</td>\n",
       "    </tr>\n",
       "    <tr>\n",
       "      <th>77</th>\n",
       "      <td>0.655132</td>\n",
       "      <td>8</td>\n",
       "    </tr>\n",
       "    <tr>\n",
       "      <th>AQs</th>\n",
       "      <td>0.647740</td>\n",
       "      <td>9</td>\n",
       "    </tr>\n",
       "    <tr>\n",
       "      <th>AKo</th>\n",
       "      <td>0.632580</td>\n",
       "      <td>10</td>\n",
       "    </tr>\n",
       "    <tr>\n",
       "      <th>AJs</th>\n",
       "      <td>0.631291</td>\n",
       "      <td>11</td>\n",
       "    </tr>\n",
       "    <tr>\n",
       "      <th>AQo</th>\n",
       "      <td>0.615332</td>\n",
       "      <td>12</td>\n",
       "    </tr>\n",
       "    <tr>\n",
       "      <th>ATs</th>\n",
       "      <td>0.614975</td>\n",
       "      <td>13</td>\n",
       "    </tr>\n",
       "    <tr>\n",
       "      <th>66</th>\n",
       "      <td>0.600810</td>\n",
       "      <td>14</td>\n",
       "    </tr>\n",
       "    <tr>\n",
       "      <th>AJo</th>\n",
       "      <td>0.597850</td>\n",
       "      <td>15</td>\n",
       "    </tr>\n",
       "    <tr>\n",
       "      <th>KQs</th>\n",
       "      <td>0.595574</td>\n",
       "      <td>16</td>\n",
       "    </tr>\n",
       "    <tr>\n",
       "      <th>ATo</th>\n",
       "      <td>0.580485</td>\n",
       "      <td>17</td>\n",
       "    </tr>\n",
       "    <tr>\n",
       "      <th>A9s</th>\n",
       "      <td>0.579436</td>\n",
       "      <td>18</td>\n",
       "    </tr>\n",
       "    <tr>\n",
       "      <th>KJs</th>\n",
       "      <td>0.578841</td>\n",
       "      <td>19</td>\n",
       "    </tr>\n",
       "    <tr>\n",
       "      <th>KTs</th>\n",
       "      <td>0.562870</td>\n",
       "      <td>20</td>\n",
       "    </tr>\n",
       "    <tr>\n",
       "      <th>A8s</th>\n",
       "      <td>0.561447</td>\n",
       "      <td>21</td>\n",
       "    </tr>\n",
       "    <tr>\n",
       "      <th>KQo</th>\n",
       "      <td>0.560090</td>\n",
       "      <td>22</td>\n",
       "    </tr>\n",
       "    <tr>\n",
       "      <th>55</th>\n",
       "      <td>0.545865</td>\n",
       "      <td>23</td>\n",
       "    </tr>\n",
       "    <tr>\n",
       "      <th>A9o</th>\n",
       "      <td>0.542448</td>\n",
       "      <td>24</td>\n",
       "    </tr>\n",
       "    <tr>\n",
       "      <th>KJo</th>\n",
       "      <td>0.542296</td>\n",
       "      <td>25</td>\n",
       "    </tr>\n",
       "    <tr>\n",
       "      <th>A7s</th>\n",
       "      <td>0.541316</td>\n",
       "      <td>26</td>\n",
       "    </tr>\n",
       "    <tr>\n",
       "      <th>QJs</th>\n",
       "      <td>0.535646</td>\n",
       "      <td>27</td>\n",
       "    </tr>\n",
       "    <tr>\n",
       "      <th>K9s</th>\n",
       "      <td>0.527876</td>\n",
       "      <td>28</td>\n",
       "    </tr>\n",
       "    <tr>\n",
       "      <th>KTo</th>\n",
       "      <td>0.525292</td>\n",
       "      <td>29</td>\n",
       "    </tr>\n",
       "    <tr>\n",
       "      <th>...</th>\n",
       "      <td>...</td>\n",
       "      <td>...</td>\n",
       "    </tr>\n",
       "    <tr>\n",
       "      <th>94o</th>\n",
       "      <td>0.158843</td>\n",
       "      <td>139</td>\n",
       "    </tr>\n",
       "    <tr>\n",
       "      <th>82s</th>\n",
       "      <td>0.151542</td>\n",
       "      <td>140</td>\n",
       "    </tr>\n",
       "    <tr>\n",
       "      <th>75o</th>\n",
       "      <td>0.151461</td>\n",
       "      <td>141</td>\n",
       "    </tr>\n",
       "    <tr>\n",
       "      <th>93o</th>\n",
       "      <td>0.147030</td>\n",
       "      <td>142</td>\n",
       "    </tr>\n",
       "    <tr>\n",
       "      <th>73s</th>\n",
       "      <td>0.144797</td>\n",
       "      <td>143</td>\n",
       "    </tr>\n",
       "    <tr>\n",
       "      <th>65o</th>\n",
       "      <td>0.139576</td>\n",
       "      <td>144</td>\n",
       "    </tr>\n",
       "    <tr>\n",
       "      <th>53s</th>\n",
       "      <td>0.135013</td>\n",
       "      <td>145</td>\n",
       "    </tr>\n",
       "    <tr>\n",
       "      <th>84o</th>\n",
       "      <td>0.134124</td>\n",
       "      <td>146</td>\n",
       "    </tr>\n",
       "    <tr>\n",
       "      <th>63s</th>\n",
       "      <td>0.133698</td>\n",
       "      <td>147</td>\n",
       "    </tr>\n",
       "    <tr>\n",
       "      <th>92o</th>\n",
       "      <td>0.130674</td>\n",
       "      <td>148</td>\n",
       "    </tr>\n",
       "    <tr>\n",
       "      <th>43s</th>\n",
       "      <td>0.116495</td>\n",
       "      <td>149</td>\n",
       "    </tr>\n",
       "    <tr>\n",
       "      <th>74o</th>\n",
       "      <td>0.115317</td>\n",
       "      <td>150</td>\n",
       "    </tr>\n",
       "    <tr>\n",
       "      <th>72s</th>\n",
       "      <td>0.111333</td>\n",
       "      <td>151</td>\n",
       "    </tr>\n",
       "    <tr>\n",
       "      <th>54o</th>\n",
       "      <td>0.104778</td>\n",
       "      <td>152</td>\n",
       "    </tr>\n",
       "    <tr>\n",
       "      <th>64o</th>\n",
       "      <td>0.103489</td>\n",
       "      <td>153</td>\n",
       "    </tr>\n",
       "    <tr>\n",
       "      <th>52s</th>\n",
       "      <td>0.102170</td>\n",
       "      <td>154</td>\n",
       "    </tr>\n",
       "    <tr>\n",
       "      <th>62s</th>\n",
       "      <td>0.100518</td>\n",
       "      <td>155</td>\n",
       "    </tr>\n",
       "    <tr>\n",
       "      <th>83o</th>\n",
       "      <td>0.098943</td>\n",
       "      <td>156</td>\n",
       "    </tr>\n",
       "    <tr>\n",
       "      <th>82o</th>\n",
       "      <td>0.087038</td>\n",
       "      <td>157</td>\n",
       "    </tr>\n",
       "    <tr>\n",
       "      <th>42s</th>\n",
       "      <td>0.084006</td>\n",
       "      <td>158</td>\n",
       "    </tr>\n",
       "    <tr>\n",
       "      <th>73o</th>\n",
       "      <td>0.080414</td>\n",
       "      <td>159</td>\n",
       "    </tr>\n",
       "    <tr>\n",
       "      <th>53o</th>\n",
       "      <td>0.070486</td>\n",
       "      <td>160</td>\n",
       "    </tr>\n",
       "    <tr>\n",
       "      <th>32s</th>\n",
       "      <td>0.069175</td>\n",
       "      <td>161</td>\n",
       "    </tr>\n",
       "    <tr>\n",
       "      <th>63o</th>\n",
       "      <td>0.068777</td>\n",
       "      <td>162</td>\n",
       "    </tr>\n",
       "    <tr>\n",
       "      <th>43o</th>\n",
       "      <td>0.050758</td>\n",
       "      <td>163</td>\n",
       "    </tr>\n",
       "    <tr>\n",
       "      <th>72o</th>\n",
       "      <td>0.044366</td>\n",
       "      <td>164</td>\n",
       "    </tr>\n",
       "    <tr>\n",
       "      <th>52o</th>\n",
       "      <td>0.035092</td>\n",
       "      <td>165</td>\n",
       "    </tr>\n",
       "    <tr>\n",
       "      <th>62o</th>\n",
       "      <td>0.033024</td>\n",
       "      <td>166</td>\n",
       "    </tr>\n",
       "    <tr>\n",
       "      <th>42o</th>\n",
       "      <td>0.015764</td>\n",
       "      <td>167</td>\n",
       "    </tr>\n",
       "    <tr>\n",
       "      <th>32o</th>\n",
       "      <td>0.000000</td>\n",
       "      <td>168</td>\n",
       "    </tr>\n",
       "  </tbody>\n",
       "</table>\n",
       "<p>169 rows × 2 columns</p>\n",
       "</div>"
      ],
      "text/plain": [
       "            1  rank\n",
       "0                  \n",
       "AA   1.000000     0\n",
       "KK   0.949462     1\n",
       "QQ   0.904836     2\n",
       "JJ   0.860323     3\n",
       "TT   0.815565     4\n",
       "99   0.761794     5\n",
       "88   0.708856     6\n",
       "AKs  0.664006     7\n",
       "77   0.655132     8\n",
       "AQs  0.647740     9\n",
       "AKo  0.632580    10\n",
       "AJs  0.631291    11\n",
       "AQo  0.615332    12\n",
       "ATs  0.614975    13\n",
       "66   0.600810    14\n",
       "AJo  0.597850    15\n",
       "KQs  0.595574    16\n",
       "ATo  0.580485    17\n",
       "A9s  0.579436    18\n",
       "KJs  0.578841    19\n",
       "KTs  0.562870    20\n",
       "A8s  0.561447    21\n",
       "KQo  0.560090    22\n",
       "55   0.545865    23\n",
       "A9o  0.542448    24\n",
       "KJo  0.542296    25\n",
       "A7s  0.541316    26\n",
       "QJs  0.535646    27\n",
       "K9s  0.527876    28\n",
       "KTo  0.525292    29\n",
       "..        ...   ...\n",
       "94o  0.158843   139\n",
       "82s  0.151542   140\n",
       "75o  0.151461   141\n",
       "93o  0.147030   142\n",
       "73s  0.144797   143\n",
       "65o  0.139576   144\n",
       "53s  0.135013   145\n",
       "84o  0.134124   146\n",
       "63s  0.133698   147\n",
       "92o  0.130674   148\n",
       "43s  0.116495   149\n",
       "74o  0.115317   150\n",
       "72s  0.111333   151\n",
       "54o  0.104778   152\n",
       "64o  0.103489   153\n",
       "52s  0.102170   154\n",
       "62s  0.100518   155\n",
       "83o  0.098943   156\n",
       "82o  0.087038   157\n",
       "42s  0.084006   158\n",
       "73o  0.080414   159\n",
       "53o  0.070486   160\n",
       "32s  0.069175   161\n",
       "63o  0.068777   162\n",
       "43o  0.050758   163\n",
       "72o  0.044366   164\n",
       "52o  0.035092   165\n",
       "62o  0.033024   166\n",
       "42o  0.015764   167\n",
       "32o  0.000000   168\n",
       "\n",
       "[169 rows x 2 columns]"
      ]
     },
     "execution_count": 319,
     "metadata": {},
     "output_type": "execute_result"
    }
   ],
   "source": [
    "pfequity"
   ]
  },
  {
   "cell_type": "code",
   "execution_count": 321,
   "metadata": {},
   "outputs": [
    {
     "data": {
      "text/plain": [
       "[<matplotlib.lines.Line2D at 0x116c5d4e0>]"
      ]
     },
     "execution_count": 321,
     "metadata": {},
     "output_type": "execute_result"
    },
    {
     "data": {
      "image/png": "[encoded data removed]",
      "text/plain": [
       "<matplotlib.figure.Figure at 0x116bf2cf8>"
      ]
     },
     "metadata": {},
     "output_type": "display_data"
    }
   ],
   "source": [
    "plt.plot(pfequity['rank'], pfequity['1'])"
   ]
  },
  {
   "cell_type": "code",
   "execution_count": null,
   "metadata": {
    "collapsed": true
   },
   "outputs": [],
   "source": []
  }
 ],
 "metadata": {
  "kernelspec": {
   "display_name": "Python 3",
   "language": "python",
   "name": "python3"
  },
  "language_info": {
   "codemirror_mode": {
    "name": "ipython",
    "version": 3
   },
   "file_extension": ".py",
   "mimetype": "text/x-python",
   "name": "python",
   "nbconvert_exporter": "python",
   "pygments_lexer": "ipython3",
   "version": "3.6.3"
  }
 },
 "nbformat": 4,
 "nbformat_minor": 2
}
