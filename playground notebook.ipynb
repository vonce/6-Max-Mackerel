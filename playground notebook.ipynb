{
 "cells": [
  {
   "cell_type": "code",
   "execution_count": 1,
   "metadata": {
    "collapsed": true
   },
   "outputs": [],
   "source": [
    "import pandas as pd\n",
    "import numpy as np\n",
    "import scipy\n",
    "import scipy.stats\n",
    "import os\n",
    "import tools"
   ]
  },
  {
   "cell_type": "code",
   "execution_count": 2,
   "metadata": {
    "collapsed": true
   },
   "outputs": [],
   "source": [
    "data = pd.read_csv('data.csv')"
   ]
  },
  {
   "cell_type": "code",
   "execution_count": 3,
   "metadata": {
    "collapsed": true
   },
   "outputs": [],
   "source": [
    "stats = pd.read_csv('stats.csv')"
   ]
  },
  {
   "cell_type": "code",
   "execution_count": 4,
   "metadata": {},
   "outputs": [
    {
     "data": {
      "text/plain": [
       "Index(['Unnamed: 0', 'filename', 'name', 'hand', 'board', 'pf stack(bb)',\n",
       "       '#pl pf', 'position pf', 'position pf/#pl pf', 'pf bets(bb)', 'pf agg',\n",
       "       'stack/pfpot', 'hand strength pf', 'fl stack(bb)', '#pl fl',\n",
       "       'position fl', 'position fl/#pl fl', 'fl bets(bb)', 'fl bets/pot',\n",
       "       'fl agg', 'stack/flpot', 'hand strength fl', 'bluff flop',\n",
       "       'tr stack(bb)', '#pl tr', 'position tr', 'position tr/#pl tr',\n",
       "       'tr bets(bb)', 'tr bets/pot', 'tr agg', 'stack/trpot',\n",
       "       'hand strength tr', 'bluff turn', 'rv stack(bb)', '#pl rv',\n",
       "       'position rv', 'position rv/#pl rv', 'rv bets(bb)', 'rv bets/pot',\n",
       "       'rv agg', 'stack/rvpot', 'hand strength rv', 'bluff river', 'tot bets',\n",
       "       'tot agg', 'bets/stacks', 'street reached', 'cluster'],\n",
       "      dtype='object')"
      ]
     },
     "execution_count": 4,
     "metadata": {},
     "output_type": "execute_result"
    }
   ],
   "source": [
    "data.columns"
   ]
  },
  {
   "cell_type": "code",
   "execution_count": 5,
   "metadata": {},
   "outputs": [
    {
     "data": {
      "text/plain": [
       "Index(['Unnamed: 0', 'avgstack', 'net', 'foldpf', 'callpf', 'raisepf',\n",
       "       'foldtoraisepf', 'numraisedpf', 'reraisepf', 'foldtoreraisepf',\n",
       "       'numreraisedpf', 'numplayedpf', 'pctseenfl', 'foldfl', 'callfl',\n",
       "       'betfl', 'raisefl', 'foldtoraisefl', 'numraisedfl', 'reraisefl',\n",
       "       'foldtoreraisefl', 'numreraisedfl', 'numplayedfl', 'pctseentr',\n",
       "       'foldtr', 'calltr', 'bettr', 'raisetr', 'foldtoraisetr', 'numraisedtr',\n",
       "       'reraisetr', 'foldtoreraisetr', 'numreraisedtr', 'numplayedtr',\n",
       "       'pctseenrv', 'foldrv', 'callrv', 'betrv', 'raiserv', 'foldtoraiserv',\n",
       "       'numraisedrv', 'reraiserv', 'foldtoreraiserv', 'numreraisedrv',\n",
       "       'numplayedrv', 'pctseensd', 'numplayedsd', 'winpercent', 'bb/100hands'],\n",
       "      dtype='object')"
      ]
     },
     "execution_count": 5,
     "metadata": {},
     "output_type": "execute_result"
    }
   ],
   "source": [
    "stats.columns"
   ]
  },
  {
   "cell_type": "code",
   "execution_count": 6,
   "metadata": {
    "scrolled": true
   },
   "outputs": [
    {
     "data": {
      "text/plain": [
       "0.81714695692062378"
      ]
     },
     "execution_count": 6,
     "metadata": {},
     "output_type": "execute_result"
    }
   ],
   "source": [
    "tools.startinghandsequity(['As','Ad'], ['Ks','Kh'])"
   ]
  },
  {
   "cell_type": "code",
   "execution_count": 18,
   "metadata": {
    "scrolled": false
   },
   "outputs": [
    {
     "name": "stdout",
     "output_type": "stream",
     "text": [
      "object\n",
      "         Unnamed: 0  filename   name   hand  board  pf stack(bb)  #pl pf  \\\n",
      "cluster                                                                    \n",
      "0             27483     27483  27483  27483  27412         27483   27483   \n",
      "1             14630     14630  14630  14630  14539         14630   14630   \n",
      "2             82886     82886  82886  82886  82852         82886   82886   \n",
      "3              7821      7821   7821   7821   7779          7821    7821   \n",
      "\n",
      "         position pf  position pf/#pl pf  pf bets(bb)       ...        \\\n",
      "cluster                                                     ...         \n",
      "0              27483               27483        27483       ...         \n",
      "1              14630               14630        14630       ...         \n",
      "2              82886               82886        82886       ...         \n",
      "3               7821                7821         7821       ...         \n",
      "\n",
      "         rv bets(bb)  rv bets/pot  rv agg  stack/rvpot  hand strength rv  \\\n",
      "cluster                                                                    \n",
      "0              27483        27483   27483        27483             27483   \n",
      "1              14630        14630   14630        14630             14630   \n",
      "2              82886        82886   82886        82886             82886   \n",
      "3               7821         7821    7821         7821              7821   \n",
      "\n",
      "         bluff river  tot bets  tot agg  bets/stacks  street reached  \n",
      "cluster                                                               \n",
      "0              27483     27483    27483        27483           27483  \n",
      "1              14630     14630    14630        14630           14630  \n",
      "2              82886     82886    82886        82886           82886  \n",
      "3               7821      7821     7821         7821            7821  \n",
      "\n",
      "[4 rows x 47 columns]\n",
      "   Unnamed: 0                                           filename         name  \\\n",
      "0           0  data/(PRR) Kajsa (short) - 10-0.50-1-USD-NoLim...  Play0rLeave   \n",
      "1           1  data/(PRR) Kajsa (short) - 10-0.50-1-USD-NoLim...  Pragmatik13   \n",
      "2           2  data/(PRR) Kajsa (short) - 10-0.50-1-USD-NoLim...  Play0rLeave   \n",
      "3           3  data/(PRR) Kajsa (short) - 10-0.50-1-USD-NoLim...   jabster579   \n",
      "4           4  data/(PRR) Kajsa (short) - 10-0.50-1-USD-NoLim...      Parcker   \n",
      "\n",
      "           hand                           board  pf stack(bb)  #pl pf  \\\n",
      "0  ['2c', '8h']  ['8s', 'Tc', 'Ks', '9c', '3h']         50.00       5   \n",
      "1  ['Kh', '8h']  ['Qc', 'Tc', '4c', 'Jd', 'Qh']         17.50       6   \n",
      "2  ['2d', 'Ad']  ['Qc', 'Tc', '4c', 'Jd', 'Qh']         50.88       6   \n",
      "3  ['8h', 'Td']  ['5s', '8c', 'Qh', '7h', '5d']         24.30       6   \n",
      "4  ['9h', '9c']  ['5s', '8c', 'Qh', '7h', '5d']         50.00       6   \n",
      "\n",
      "   position pf  position pf/#pl pf  pf bets(bb)   ...     rv bets/pot  rv agg  \\\n",
      "0            3                0.75          1.0   ...            0.00     0.0   \n",
      "1            4                0.80         17.5   ...            0.00     0.0   \n",
      "2            0                0.00         17.5   ...            0.00     0.0   \n",
      "3            4                0.80          2.8   ...            2.57    15.7   \n",
      "4            3                0.60          2.8   ...            2.57     0.0   \n",
      "\n",
      "   stack/rvpot  hand strength rv  bluff river  tot bets  tot agg  bets/stacks  \\\n",
      "0        19.60          0.496970            0       1.0      0.0         0.02   \n",
      "1         0.00          0.282828            0      17.5     16.5         1.00   \n",
      "2         0.94          0.365657            0      17.5      2.0         0.34   \n",
      "3         0.00          0.647475            0      24.3     21.5         1.00   \n",
      "4         0.52          0.732323            0      24.3      2.8         0.49   \n",
      "\n",
      "   street reached  cluster  \n",
      "0               3        2  \n",
      "1               0        2  \n",
      "2               0        2  \n",
      "3               3        3  \n",
      "4               3        2  \n",
      "\n",
      "[5 rows x 48 columns]\n",
      "shape (132820, 48)\n",
      "Index(['Unnamed: 0', 'filename', 'name', 'hand', 'board', 'pf stack(bb)',\n",
      "       '#pl pf', 'position pf', 'position pf/#pl pf', 'pf bets(bb)', 'pf agg',\n",
      "       'stack/pfpot', 'hand strength pf', 'fl stack(bb)', '#pl fl',\n",
      "       'position fl', 'position fl/#pl fl', 'fl bets(bb)', 'fl bets/pot',\n",
      "       'fl agg', 'stack/flpot', 'hand strength fl', 'bluff flop',\n",
      "       'tr stack(bb)', '#pl tr', 'position tr', 'position tr/#pl tr',\n",
      "       'tr bets(bb)', 'tr bets/pot', 'tr agg', 'stack/trpot',\n",
      "       'hand strength tr', 'bluff turn', 'rv stack(bb)', '#pl rv',\n",
      "       'position rv', 'position rv/#pl rv', 'rv bets(bb)', 'rv bets/pot',\n",
      "       'rv agg', 'stack/rvpot', 'hand strength rv', 'bluff river', 'tot bets',\n",
      "       'tot agg', 'bets/stacks', 'street reached', 'cluster',\n",
      "       'hand strength ^2', 'tot bets/stack', 'log tot bets',\n",
      "       'log tot bets/stack', 'log tot agg'],\n",
      "      dtype='object')\n",
      "stack/rvpot          -0.400788\n",
      "stack/trpot          -0.304412\n",
      "stack/flpot          -0.208482\n",
      "stack/pfpot          -0.106464\n",
      "rv stack(bb)         -0.029514\n",
      "#pl rv               -0.008665\n",
      "cluster              -0.006183\n",
      "position pf/#pl pf   -0.002075\n",
      "tr stack(bb)          0.000598\n",
      "Unnamed: 0            0.002570\n",
      "position pf           0.004979\n",
      "fl stack(bb)          0.013410\n",
      "bluff flop            0.017319\n",
      "pf stack(bb)          0.017456\n",
      "#pl pf                0.029216\n",
      "#pl tr                0.034177\n",
      "position rv           0.039599\n",
      "position fl/#pl fl    0.040128\n",
      "position rv/#pl rv    0.043669\n",
      "position tr/#pl tr    0.043822\n",
      "pf agg                0.046673\n",
      "position tr           0.052321\n",
      "position fl           0.077141\n",
      "pf bets(bb)           0.094941\n",
      "#pl fl                0.105964\n",
      "hand strength pf      0.129926\n",
      "fl agg                0.150720\n",
      "tr agg                0.207214\n",
      "fl bets/pot           0.234269\n",
      "fl bets(bb)           0.236439\n",
      "tr bets/pot           0.290073\n",
      "hand strength fl      0.297123\n",
      "tr bets(bb)           0.297326\n",
      "rv agg                0.327960\n",
      "tot agg               0.346988\n",
      "rv bets(bb)           0.400942\n",
      "rv bets/pot           0.404953\n",
      "bets/stacks           0.414784\n",
      "tot bets/stack        0.414913\n",
      "tot bets              0.417554\n",
      "log tot agg           0.435533\n",
      "log tot bets/stack    0.513897\n",
      "log tot bets          0.567295\n",
      "hand strength tr      0.568557\n",
      "hand strength rv      0.975030\n",
      "hand strength ^2      1.000000\n",
      "bluff turn                 NaN\n",
      "bluff river                NaN\n",
      "street reached             NaN\n",
      "Name: hand strength ^2, dtype: float64\n",
      "Series([], Name: hand strength rv, dtype: float64)\n",
      "0.461665156384\n",
      "{}\n",
      "0.469331983994\n",
      "median: 0.0832311186091\n",
      "std: 0.1484112150978075\n"
     ]
    },
    {
     "data": {
      "image/png": "[encoded data removed]",
      "text/plain": [
       "<matplotlib.figure.Figure at 0x128f06e10>"
      ]
     },
     "metadata": {},
     "output_type": "display_data"
    },
    {
     "data": {
      "image/png": "[encoded data removed]",
      "text/plain": [
       "<matplotlib.figure.Figure at 0x1270dda20>"
      ]
     },
     "metadata": {},
     "output_type": "display_data"
    }
   ],
   "source": [
    "import pandas as pd\n",
    "import numpy as np\n",
    "from sklearn.ensemble import GradientBoostingRegressor, RandomForestRegressor\n",
    "from sklearn.model_selection import train_test_split, GridSearchCV\n",
    "from sklearn.pipeline import Pipeline\n",
    "from sklearn.preprocessing import StandardScaler\n",
    "import matplotlib.pyplot as plt\n",
    "\n",
    "%matplotlib inline\n",
    "df = pd.read_csv('data.csv')\n",
    "\n",
    "#print(df['name'].value_counts())\n",
    "print(df['board'].dtypes)\n",
    "print(df.groupby('cluster').count())\n",
    "#df = df[df['cluster'] == 3]\n",
    "print(df.head())\n",
    "print('shape', df.shape)\n",
    "#df['board texture'] = df['board'].apply(hr.boardtexture)\n",
    "df['hand strength ^2'] = df['hand strength rv'] ** 2\n",
    "df['tot bets/stack'] = df['tot bets']/df['pf stack(bb)']\n",
    "df['log tot bets'] = np.log(df['tot bets'])\n",
    "df['log tot bets/stack'] = np.log(df['tot bets/stack'])\n",
    "df['log tot agg'] = np.sqrt(df['tot agg'])\n",
    "#df['pf agg'] = np.sqrt(df['pf agg'])\n",
    "#df['rv agg'] = np.sqrt(df['rv agg'])\n",
    "#df['tr agg'] = np.sqrt(df['tr agg'])\n",
    "#df['fl agg'] = np.sqrt(df['fl agg'])\n",
    "#df['rv bets(bb)'] = np.sqrt(df['rv bets(bb)'])\n",
    "#df['tr bets(bb)'] = np.sqrt(df['tr bets(bb)'])\n",
    "#df['fl bets(bb)'] = np.sqrt(df['fl bets(bb)'])\n",
    "#df['pf bets(bb)'] = np.sqrt(df['pf bets(bb)'])\n",
    "#df['rv bets/pot'] = np.sqrt(df['rv bets/pot'])\n",
    "#df['tr bets/pot'] = np.sqrt(df['tr bets/pot'])\n",
    "#df['fl bets/pot'] = np.sqrt(df['fl bets/pot'])\n",
    "\n",
    "#print(df[df['hand strength ^2'] == 0])\n",
    "print(df.columns)\n",
    "df2 = df\n",
    "df2 = df2[df2['street reached'] == 2]\n",
    "df = df.dropna(axis = 0)\n",
    "df = df[df['bluff river'] == 0]\n",
    "df = df[df['bluff turn'] == 0]\n",
    "#df = df[df['bluff flop'] == 0]\n",
    "df = df[df['street reached'] == 3]\n",
    "#df = df[df['pf stack(bb)'] > 80]\n",
    "#df = df[df['straight draws flop'] == 0]\n",
    "#df = df[df['flush draws flop'] == 0]\n",
    "#df = df[df['straight draws turn'] == 0]\n",
    "#df = df[df['flush draws turn'] == 0]\n",
    "#print(df['bluff river'].value_counts())\n",
    "print(df.corr()['hand strength ^2'].sort_values())\n",
    "print(df[df['hand strength rv'].isnull()]['hand strength rv'])\n",
    "df['hand strength ^2'].plot.hist()\n",
    "#df['log tot bets'].plot.hist()\n",
    "ax = df2.plot.scatter(x = 'hand strength ^2', y = 'log tot bets', s = 1, color = 'red')\n",
    "df.plot.scatter(x = 'hand strength ^2', y = 'log tot bets', s = 1, color = 'blue', ax = ax)\n",
    "\n",
    "X = df.drop(['filename','Unnamed: 0','street reached','name',\n",
    "       'hand','board','hand strength fl','hand strength tr','hand strength rv',\n",
    "       'hand strength ^2','bluff flop','bluff turn',\n",
    "       'bluff river'], axis = 1)\n",
    "#X = df[['log tot bets','log tot bets/stack','log tot agg',\n",
    "#       'tot bets/stack','tot bets','rv bets(bb)','rv bets/pot',\n",
    "#       'fl bets(bb)','fl bets/pot','tot agg','tr bets(bb)',\n",
    "#       'tr bets/pot']]\n",
    "y = df['hand strength ^2']\n",
    "#print(X.columns)\n",
    "#print(y)\n",
    "X_train, X_test, y_train, y_test = train_test_split(X,y)\n",
    "ss = StandardScaler()\n",
    "gbr = GradientBoostingRegressor()\n",
    "rfr = RandomForestRegressor()\n",
    "pipe = Pipeline([\n",
    "    ('ss', ss),\n",
    "    ('gbr', gbr)\n",
    "])\n",
    "params = {\n",
    "        \n",
    "}\n",
    "gs = GridSearchCV(pipe, param_grid = params)\n",
    "gs.fit(X_train, y_train)\n",
    "\n",
    "print(gs.best_score_)\n",
    "print(gs.best_params_)\n",
    "print(gs.score(X_test, y_test))\n",
    "\n",
    "z = pd.DataFrame(gs.predict(X_test))\n",
    "z['test actual'] = list(y_test)\n",
    "\n",
    "z[0] = np.sqrt(z[0])\n",
    "z['test actual'] = np.sqrt(z['test actual'])\n",
    "z['diff'] = z[0] - z['test actual']\n",
    "print(\"median:\", np.median(np.abs(z['diff'])))\n",
    "print(\"std:\", np.std(z['diff']))"
   ]
  },
  {
   "cell_type": "code",
   "execution_count": 90,
   "metadata": {},
   "outputs": [
    {
     "name": "stdout",
     "output_type": "stream",
     "text": [
      "    Unnamed: 0                                           filename  \\\n",
      "0            0  data/(PRR) Kajsa (short) - 10-0.50-1-USD-NoLim...   \n",
      "3            3  data/(PRR) Kajsa (short) - 10-0.50-1-USD-NoLim...   \n",
      "4            4  data/(PRR) Kajsa (short) - 10-0.50-1-USD-NoLim...   \n",
      "11          11  data/(PRR) Kajsa (short) - 10-0.50-1-USD-NoLim...   \n",
      "12          12  data/(PRR) Kajsa (short) - 10-0.50-1-USD-NoLim...   \n",
      "\n",
      "              name          hand                           board  \\\n",
      "0      Play0rLeave  ['2c', '8h']  ['8s', 'Tc', 'Ks', '9c', '3h']   \n",
      "3       jabster579  ['8h', 'Td']  ['5s', '8c', 'Qh', '7h', '5d']   \n",
      "4          Parcker  ['9h', '9c']  ['5s', '8c', 'Qh', '7h', '5d']   \n",
      "11        Mi1house  ['9s', '9h']  ['Jd', '7c', 'Js', 'Kh', '8s']   \n",
      "12  basic instinct  ['Jd', 'Ac']  ['Jh', '7c', '9d', 'Jc', '4c']   \n",
      "\n",
      "    pf stack(bb)  #pl pf  position pf  position pf/#pl pf  pf bets(bb)  \\\n",
      "0          50.00       5            3                0.75          1.0   \n",
      "3          24.30       6            4                0.80          2.8   \n",
      "4          50.00       6            3                0.60          2.8   \n",
      "11         50.50       6            5                1.00          2.0   \n",
      "12         54.48       6            4                0.80          2.0   \n",
      "\n",
      "    pf agg  stack/pfpot  hand strength pf  fl stack(bb)  #pl fl  position fl  \\\n",
      "0      0.0        19.60          0.087038         49.00       2            1   \n",
      "3      0.0         3.52          0.333594         21.50       2            1   \n",
      "4      2.8         7.74          0.761794         47.20       2            0   \n",
      "11     1.5        12.12          0.761794         48.50       2            1   \n",
      "12     0.0        11.66          0.597850         52.48       2            1   \n",
      "\n",
      "    position fl/#pl fl  fl bets(bb)  fl bets/pot  fl agg  stack/flpot  \\\n",
      "0                  1.0         0.00         0.00     0.0        19.60   \n",
      "3                  1.0         5.80         0.95     5.8         0.89   \n",
      "4                  0.0         5.80         0.95     0.0         2.34   \n",
      "11                 1.0         2.00         0.50     2.0         5.81   \n",
      "12                 1.0         2.14         0.48     0.0         5.73   \n",
      "\n",
      "    hand strength fl  bluff flop  tr stack(bb)  #pl tr  position tr  \\\n",
      "0           0.663275           0         49.00       2            1   \n",
      "3           0.813136           0         15.70       2            1   \n",
      "4           0.838113           0         41.40       2            0   \n",
      "11          0.889917           0         46.50       2            1   \n",
      "12          0.939870           0         50.34       2            1   \n",
      "\n",
      "    position tr/#pl tr  tr bets(bb)  tr bets/pot  tr agg  stack/trpot  \\\n",
      "0                  1.0          0.0          0.0     0.0        19.60   \n",
      "3                  1.0          0.0          0.0     0.0         0.89   \n",
      "4                  0.0          0.0          0.0     0.0         2.34   \n",
      "11                 1.0          0.0          0.0     0.0         5.81   \n",
      "12                 1.0          0.0          0.0     0.0         5.73   \n",
      "\n",
      "    hand strength tr  bluff turn  rv stack(bb)  #pl rv  position rv  \\\n",
      "0           0.511111           0         49.00       2            1   \n",
      "3           0.759420           0         15.70       2            1   \n",
      "4           0.790338           0         41.40       2            0   \n",
      "11          0.771015           0         46.50       2            1   \n",
      "12          0.970048           0         50.34       2            1   \n",
      "\n",
      "    position rv/#pl rv  rv bets(bb)  rv bets/pot  rv agg  stack/rvpot  \\\n",
      "0                  1.0         0.00         0.00    0.00        19.60   \n",
      "3                  1.0        15.70         2.57   15.70         0.00   \n",
      "4                  0.0        15.70         2.57    0.00         0.52   \n",
      "11                 1.0         5.00         1.25    5.00         2.31   \n",
      "12                 1.0         4.17         0.93    4.17         2.70   \n",
      "\n",
      "    hand strength rv  bluff river  tot bets  tot agg  bets/stacks  \\\n",
      "0           0.496970            0      1.00     0.00         0.02   \n",
      "3           0.647475            0     24.30    21.50         1.00   \n",
      "4           0.732323            0     24.30     2.80         0.49   \n",
      "11          0.754545            0      9.00     8.50         0.18   \n",
      "12          0.927273            0      8.31     4.17         0.15   \n",
      "\n",
      "    street reached  cluster  hand strength ^2  tot bets/stack  log tot bets  \\\n",
      "0                3        2          0.246979        0.020000      0.000000   \n",
      "3                3        3          0.419224        1.000000      3.190476   \n",
      "4                3        2          0.536297        0.486000      3.190476   \n",
      "11               3        2          0.569339        0.178218      2.197225   \n",
      "12               3        2          0.859835        0.152533      2.117460   \n",
      "\n",
      "    log tot bets/stack  log tot agg  \n",
      "0            -3.912023     0.000000  \n",
      "3             0.000000     4.636809  \n",
      "4            -0.721547     1.673320  \n",
      "11           -1.724749     2.915476  \n",
      "12           -1.880374     2.042058  \n"
     ]
    }
   ],
   "source": [
    "pd.set_option('display.max_columns', None)\n",
    "print(df.head())"
   ]
  },
  {
   "cell_type": "code",
   "execution_count": 96,
   "metadata": {},
   "outputs": [
    {
     "data": {
      "text/plain": [
       "<matplotlib.axes._subplots.AxesSubplot at 0x121b575f8>"
      ]
     },
     "execution_count": 96,
     "metadata": {},
     "output_type": "execute_result"
    },
    {
     "data": {
      "image/png": "[encoded data removed]",
      "text/plain": [
       "<matplotlib.figure.Figure at 0x121c145f8>"
      ]
     },
     "metadata": {},
     "output_type": "display_data"
    }
   ],
   "source": [
    "z[(z[0]<=1) & (z[0]>.90)]['diff'].plot.hist()\n",
    "#z['diff'].plot.hist()"
   ]
  },
  {
   "cell_type": "code",
   "execution_count": 92,
   "metadata": {},
   "outputs": [
    {
     "data": {
      "text/plain": [
       "<matplotlib.axes._subplots.AxesSubplot at 0x120ac36a0>"
      ]
     },
     "execution_count": 92,
     "metadata": {},
     "output_type": "execute_result"
    },
    {
     "data": {
      "image/png": "[encoded data removed]",
      "text/plain": [
       "<matplotlib.figure.Figure at 0x11ea77cf8>"
      ]
     },
     "metadata": {},
     "output_type": "display_data"
    }
   ],
   "source": [
    "z[0].plot.hist(bins = 20)"
   ]
  },
  {
   "cell_type": "code",
   "execution_count": 93,
   "metadata": {},
   "outputs": [
    {
     "name": "stdout",
     "output_type": "stream",
     "text": [
      "0.954170980496\n"
     ]
    }
   ],
   "source": [
    "print(max(z[0]))"
   ]
  },
  {
   "cell_type": "code",
   "execution_count": 94,
   "metadata": {},
   "outputs": [
    {
     "data": {
      "text/plain": [
       "<matplotlib.axes._subplots.AxesSubplot at 0x120067e80>"
      ]
     },
     "execution_count": 94,
     "metadata": {},
     "output_type": "execute_result"
    },
    {
     "data": {
      "image/png": "[encoded data removed]",
      "text/plain": [
       "<matplotlib.figure.Figure at 0x1217ab4a8>"
      ]
     },
     "metadata": {},
     "output_type": "display_data"
    }
   ],
   "source": [
    "z['test actual'].plot.hist(bins = 20)"
   ]
  },
  {
   "cell_type": "code",
   "execution_count": 11,
   "metadata": {},
   "outputs": [
    {
     "name": "stderr",
     "output_type": "stream",
     "text": [
      "/Users/Vince/anaconda3/lib/python3.6/site-packages/scipy/stats/_continuous_distns.py:427: RuntimeWarning: invalid value encountered in sqrt\n",
      "  sk = 2*(b-a)*np.sqrt(a + b + 1) / (a + b + 2) / np.sqrt(a*b)\n",
      "/Users/Vince/anaconda3/lib/python3.6/site-packages/scipy/stats/_distn_infrastructure.py:2306: RuntimeWarning: invalid value encountered in double_scalars\n",
      "  Lhat = muhat - Shat*mu\n"
     ]
    },
    {
     "data": {
      "image/png": "[encoded data removed]",
      "text/plain": [
       "<matplotlib.figure.Figure at 0x122f76ac8>"
      ]
     },
     "metadata": {},
     "output_type": "display_data"
    }
   ],
   "source": [
    "X = z[(z[0]<=1) & (z[0]>.85)]['diff']\n",
    "\n",
    "\n",
    "dist_names = ['gamma', 'beta', 'rayleigh', 'norm', 'pareto']\n",
    "\n",
    "for dist_name in dist_names:\n",
    "    dist = getattr(scipy.stats, dist_name)\n",
    "    param = dist.fit(X)\n",
    "    pdf_fitted = dist.pdf(np.linspace(0,1,len(X)), *param[:-2], loc=param[-2], scale=param[-1]) * max(X) \n",
    "\n",
    "    plt.plot(np.linspace(0,1,len(X)), pdf_fitted, label=dist_name)\n",
    "\n",
    "#param = rayleigh.fit(z['test actual'])\n",
    "plt.legend(loc='upper right')\n",
    "plt.show()\n",
    "\n"
   ]
  },
  {
   "cell_type": "code",
   "execution_count": 12,
   "metadata": {
    "scrolled": true
   },
   "outputs": [
    {
     "name": "stdout",
     "output_type": "stream",
     "text": [
      "[  0.00000000e+00   5.22138680e-05   1.04427736e-04 ...,   9.99895572e-01\n",
      "   9.99947786e-01   1.00000000e+00]\n"
     ]
    }
   ],
   "source": [
    "print(np.linspace(0,1,len(z['test actual'])))"
   ]
  },
  {
   "cell_type": "code",
   "execution_count": 13,
   "metadata": {},
   "outputs": [
    {
     "name": "stdout",
     "output_type": "stream",
     "text": [
      "[ 0.96673721  0.94963675  0.93293968  0.91663414  0.90070868  0.88515223\n",
      "  0.86995415  0.85510413  0.84059223  0.82640885  0.8125447   0.79899083\n",
      "  0.78573857  0.77277955  0.76010568  0.74770912  0.7355823   0.72371791\n",
      "  0.71210885  0.70074828  0.68962954  0.67874622  0.6680921   0.65766115\n",
      "  0.64744754  0.63744562  0.62764991  0.61805511  0.60865607  0.59944781\n",
      "  0.59042549  0.58158443  0.57292009  0.56442804  0.55610402  0.54794388\n",
      "  0.53994358  0.53209922  0.52440701  0.51686325  0.50946438  0.50220692\n",
      "  0.49508749  0.48810282  0.48124971  0.47452509  0.46792593  0.46144932\n",
      "  0.45509241  0.44885244  0.44272673  0.43671266  0.43080769  0.42500935\n",
      "  0.41931524  0.41372301  0.40823039  0.40283516  0.39753516  0.3923283\n",
      "  0.38721253  0.38218587  0.37724636  0.37239213  0.36762133  0.36293218\n",
      "  0.35832292  0.35379187  0.34933735  0.34495776  0.34065152  0.3364171\n",
      "  0.33225299  0.32815775  0.32412994  0.32016819  0.31627113  0.31243745\n",
      "  0.30866586  0.3049551   0.30130395  0.29771121  0.29417571  0.29069631\n",
      "  0.28727191  0.28390141  0.28058375  0.2773179   0.27410285  0.27093761\n",
      "  0.26782122  0.26475273  0.26173122  0.2587558   0.25582559  0.25293972\n",
      "  0.25009736  0.24729769  0.24453991  0.24182323  0.23914689  0.23651014\n",
      "  0.23391225  0.2313525   0.22883019  0.22634465  0.22389518  0.22148115\n",
      "  0.21910192  0.21675685  0.21444533  0.21216676  0.20992056  0.20770615\n",
      "  0.20552296  0.20337046  0.20124809  0.19915533  0.19709166  0.19505659\n",
      "  0.1930496   0.19107023  0.18911799  0.18719242  0.18529306  0.18341947\n",
      "  0.1815712   0.17974784  0.17794897  0.17617416  0.17442302  0.17269515\n",
      "  0.17099018  0.16930771  0.16764737  0.16600881  0.16439166  0.16279558\n",
      "  0.16122022  0.15966525  0.15813033  0.15661514  0.15511937  0.15364271\n",
      "  0.15218484  0.15074547  0.14932431  0.14792106  0.14653545  0.1451672\n",
      "  0.14381603  0.14248169  0.1411639   0.13986241  0.13857697  0.13730733\n",
      "  0.13605325  0.13481449  0.13359081  0.13238199  0.1311878   0.13000802\n",
      "  0.12884243  0.12769081  0.12655297  0.12542869  0.12431776  0.12322\n",
      "  0.12213521  0.12106318  0.12000375  0.11895672  0.1179219   0.11689913\n",
      "  0.11588823  0.11488902  0.11390133  0.112925    0.11195987  0.11100577\n",
      "  0.11006255  0.10913006  0.10820813  0.10729661  0.10639538  0.10550426\n",
      "  0.10462314  0.10375186  0.10289028  0.10203828  0.10119572  0.10036246\n",
      "  0.09953838  0.09872336  0.09791727  0.09711998  0.09633137  0.09555134\n",
      "  0.09477975  0.0940165   0.09326148  0.09251457  0.09177566  0.09104465\n",
      "  0.09032143  0.08960589  0.08889794  0.08819748  0.08750439  0.0868186\n",
      "  0.08614     0.0854685   0.084804    0.08414641  0.08349565  0.08285162\n",
      "  0.08221424  0.08158342  0.08095907  0.08034112  0.07972949  0.07912408\n",
      "  0.07852482  0.07793164  0.07734446  0.07676319  0.07618777  0.07561813\n",
      "  0.07505418  0.07449586  0.0739431   0.07339583  0.07285398  0.07231748\n",
      "  0.07178627  0.07126028  0.07073945  0.07022371  0.06971301  0.06920728\n",
      "  0.06870646  0.06821048  0.0677193   0.06723285  0.06675108  0.06627393\n",
      "  0.06580135  0.06533327  0.06486966  0.06441044  0.06395558  0.06350501\n",
      "  0.06305869  0.06261658  0.06217861  0.06174474  0.06131492  0.06088911\n",
      "  0.06046725  0.06004931  0.05963524  0.05922498  0.05881851  0.05841576\n",
      "  0.05801671  0.05762131  0.05722952  0.05684129  0.05645658  0.05607536\n",
      "  0.05569759  0.05532323  0.05495223  0.05458456  0.05422018  0.05385907\n",
      "  0.05350117  0.05314645  0.05279488  0.05244643  0.05210105  0.05175872\n",
      "  0.0514194   0.05108306  0.05074966  0.05041918  0.05009157  0.04976682\n",
      "  0.04944488  0.04912574  0.04880935  0.04849568  0.04818472  0.04787643\n",
      "  0.04757077  0.04726773  0.04696728  0.04666938  0.04637401  0.04608114\n",
      "  0.04579075  0.0455028   0.04521729  0.04493417  0.04465342  0.04437502\n",
      "  0.04409895  0.04382518  0.04355368  0.04328443  0.04301741  0.0427526\n",
      "  0.04248997  0.0422295   0.04197117  0.04171495  0.04146083  0.04120878\n",
      "  0.04095878  0.04071081  0.04046485  0.04022088  0.03997888  0.03973883\n",
      "  0.03950071  0.0392645   0.03903019  0.03879774  0.03856715  0.03833839\n",
      "  0.03811145  0.03788631  0.03766295  0.03744135  0.0372215   0.03700337\n",
      "  0.03678696  0.03657224  0.0363592   0.03614783  0.03593809  0.03572999\n",
      "  0.0355235   0.03531861  0.0351153   0.03491356  0.03471337  0.03451472\n",
      "  0.03431759  0.03412196  0.03392783  0.03373518  0.033544    0.03335426\n",
      "  0.03316596  0.03297909  0.03279362  0.03260956  0.03242687  0.03224556\n",
      "  0.0320656   0.03188699  0.03170971  0.03153375  0.0313591   0.03118574\n",
      "  0.03101367  0.03084287  0.03067333  0.03050503  0.03033797  0.03017214\n",
      "  0.03000752  0.02984411  0.02968188  0.02952084  0.02936097  0.02920225\n",
      "  0.02904469  0.02888826  0.02873296  0.02857878  0.02842571  0.02827374\n",
      "  0.02812285  0.02797305  0.02782431  0.02767663  0.02753     0.02738441\n",
      "  0.02723985  0.02709631  0.02695379  0.02681227  0.02667175  0.02653221\n",
      "  0.02639365  0.02625606  0.02611942  0.02598375  0.02584901  0.02571521\n",
      "  0.02558234  0.02545039  0.02531935  0.02518921  0.02505997  0.02493162\n",
      "  0.02480415  0.02467755  0.02455181  0.02442694  0.02430291  0.02417973\n",
      "  0.02405739  0.02393587  0.02381517  0.02369529  0.02357622  0.02345795\n",
      "  0.02334048  0.02322379  0.02310789  0.02299275  0.02287839  0.02276479\n",
      "  0.02265195  0.02253985  0.0224285   0.02231788  0.02220799  0.02209883\n",
      "  0.02199039  0.02188266  0.02177564  0.02166932  0.02156369  0.02145875\n",
      "  0.0213545   0.02125093  0.02114803  0.02104579  0.02094422  0.02084331\n",
      "  0.02074304  0.02064342  0.02054445  0.0204461   0.02034839  0.02025131\n",
      "  0.02015484  0.02005899  0.01996375  0.01986912  0.01977509  0.01968165\n",
      "  0.01958881  0.01949655  0.01940487  0.01931377  0.01922325  0.01913329\n",
      "  0.0190439   0.01895506  0.01886678  0.01877905  0.01869187  0.01860523\n",
      "  0.01851913  0.01843356  0.01834852  0.01826401  0.01818002  0.01809655\n",
      "  0.01801358  0.01793113  0.01784919  0.01776774  0.0176868   0.01760634\n",
      "  0.01752638]\n"
     ]
    }
   ],
   "source": [
    "print(pdf_fitted)"
   ]
  },
  {
   "cell_type": "code",
   "execution_count": 14,
   "metadata": {},
   "outputs": [
    {
     "name": "stdout",
     "output_type": "stream",
     "text": [
      "(369.15614484932894, -4.3352518506175155, 0.013273492218148476)\n"
     ]
    },
    {
     "ename": "TypeError",
     "evalue": "_parse_args() missing 1 required positional argument: 'a'",
     "output_type": "error",
     "traceback": [
      "\u001b[0;31m---------------------------------------------------------------------------\u001b[0m",
      "\u001b[0;31mTypeError\u001b[0m                                 Traceback (most recent call last)",
      "\u001b[0;32m<ipython-input-14-5038e85645c7>\u001b[0m in \u001b[0;36m<module>\u001b[0;34m()\u001b[0m\n\u001b[1;32m      6\u001b[0m \u001b[0mparam\u001b[0m \u001b[0;34m=\u001b[0m \u001b[0mscipy\u001b[0m\u001b[0;34m.\u001b[0m\u001b[0mstats\u001b[0m\u001b[0;34m.\u001b[0m\u001b[0mgamma\u001b[0m\u001b[0;34m.\u001b[0m\u001b[0mfit\u001b[0m\u001b[0;34m(\u001b[0m\u001b[0mX\u001b[0m\u001b[0;34m)\u001b[0m\u001b[0;34m\u001b[0m\u001b[0m\n\u001b[1;32m      7\u001b[0m \u001b[0mprint\u001b[0m\u001b[0;34m(\u001b[0m\u001b[0mparam\u001b[0m\u001b[0;34m)\u001b[0m\u001b[0;34m\u001b[0m\u001b[0m\n\u001b[0;32m----> 8\u001b[0;31m \u001b[0mpdf_fitted\u001b[0m \u001b[0;34m=\u001b[0m \u001b[0mscipy\u001b[0m\u001b[0;34m.\u001b[0m\u001b[0mstats\u001b[0m\u001b[0;34m.\u001b[0m\u001b[0mgamma\u001b[0m\u001b[0;34m.\u001b[0m\u001b[0mpdf\u001b[0m\u001b[0;34m(\u001b[0m\u001b[0mnp\u001b[0m\u001b[0;34m.\u001b[0m\u001b[0mlinspace\u001b[0m\u001b[0;34m(\u001b[0m\u001b[0;36m0\u001b[0m\u001b[0;34m,\u001b[0m\u001b[0;36m1\u001b[0m\u001b[0;34m,\u001b[0m\u001b[0mlen\u001b[0m\u001b[0;34m(\u001b[0m\u001b[0mX\u001b[0m\u001b[0;34m)\u001b[0m\u001b[0;34m)\u001b[0m\u001b[0;34m,\u001b[0m \u001b[0mloc\u001b[0m\u001b[0;34m=\u001b[0m\u001b[0mparam\u001b[0m\u001b[0;34m[\u001b[0m\u001b[0;34m-\u001b[0m\u001b[0;36m2\u001b[0m\u001b[0;34m]\u001b[0m\u001b[0;34m,\u001b[0m \u001b[0mscale\u001b[0m\u001b[0;34m=\u001b[0m\u001b[0mparam\u001b[0m\u001b[0;34m[\u001b[0m\u001b[0;34m-\u001b[0m\u001b[0;36m1\u001b[0m\u001b[0;34m]\u001b[0m\u001b[0;34m)\u001b[0m \u001b[0;34m*\u001b[0m \u001b[0;36m1000\u001b[0m\u001b[0;34m\u001b[0m\u001b[0m\n\u001b[0m\u001b[1;32m      9\u001b[0m \u001b[0mplt\u001b[0m\u001b[0;34m.\u001b[0m\u001b[0mplot\u001b[0m\u001b[0;34m(\u001b[0m\u001b[0mnp\u001b[0m\u001b[0;34m.\u001b[0m\u001b[0mlinspace\u001b[0m\u001b[0;34m(\u001b[0m\u001b[0;36m0\u001b[0m\u001b[0;34m,\u001b[0m\u001b[0;36m1\u001b[0m\u001b[0;34m,\u001b[0m\u001b[0mlen\u001b[0m\u001b[0;34m(\u001b[0m\u001b[0mX\u001b[0m\u001b[0;34m)\u001b[0m\u001b[0;34m)\u001b[0m\u001b[0;34m,\u001b[0m\u001b[0mpdf_fitted\u001b[0m\u001b[0;34m,\u001b[0m \u001b[0mlabel\u001b[0m\u001b[0;34m=\u001b[0m\u001b[0mdist_name\u001b[0m\u001b[0;34m)\u001b[0m\u001b[0;34m\u001b[0m\u001b[0m\n",
      "\u001b[0;32m~/anaconda3/lib/python3.6/site-packages/scipy/stats/_distn_infrastructure.py\u001b[0m in \u001b[0;36mpdf\u001b[0;34m(self, x, *args, **kwds)\u001b[0m\n\u001b[1;32m   1646\u001b[0m \u001b[0;34m\u001b[0m\u001b[0m\n\u001b[1;32m   1647\u001b[0m         \"\"\"\n\u001b[0;32m-> 1648\u001b[0;31m         \u001b[0margs\u001b[0m\u001b[0;34m,\u001b[0m \u001b[0mloc\u001b[0m\u001b[0;34m,\u001b[0m \u001b[0mscale\u001b[0m \u001b[0;34m=\u001b[0m \u001b[0mself\u001b[0m\u001b[0;34m.\u001b[0m\u001b[0m_parse_args\u001b[0m\u001b[0;34m(\u001b[0m\u001b[0;34m*\u001b[0m\u001b[0margs\u001b[0m\u001b[0;34m,\u001b[0m \u001b[0;34m**\u001b[0m\u001b[0mkwds\u001b[0m\u001b[0;34m)\u001b[0m\u001b[0;34m\u001b[0m\u001b[0m\n\u001b[0m\u001b[1;32m   1649\u001b[0m         \u001b[0mx\u001b[0m\u001b[0;34m,\u001b[0m \u001b[0mloc\u001b[0m\u001b[0;34m,\u001b[0m \u001b[0mscale\u001b[0m \u001b[0;34m=\u001b[0m \u001b[0mmap\u001b[0m\u001b[0;34m(\u001b[0m\u001b[0masarray\u001b[0m\u001b[0;34m,\u001b[0m \u001b[0;34m(\u001b[0m\u001b[0mx\u001b[0m\u001b[0;34m,\u001b[0m \u001b[0mloc\u001b[0m\u001b[0;34m,\u001b[0m \u001b[0mscale\u001b[0m\u001b[0;34m)\u001b[0m\u001b[0;34m)\u001b[0m\u001b[0;34m\u001b[0m\u001b[0m\n\u001b[1;32m   1650\u001b[0m         \u001b[0margs\u001b[0m \u001b[0;34m=\u001b[0m \u001b[0mtuple\u001b[0m\u001b[0;34m(\u001b[0m\u001b[0mmap\u001b[0m\u001b[0;34m(\u001b[0m\u001b[0masarray\u001b[0m\u001b[0;34m,\u001b[0m \u001b[0margs\u001b[0m\u001b[0;34m)\u001b[0m\u001b[0;34m)\u001b[0m\u001b[0;34m\u001b[0m\u001b[0m\n",
      "\u001b[0;31mTypeError\u001b[0m: _parse_args() missing 1 required positional argument: 'a'"
     ]
    },
    {
     "data": {
      "image/png": "[encoded data removed]",
      "text/plain": [
       "<matplotlib.figure.Figure at 0x121040128>"
      ]
     },
     "metadata": {},
     "output_type": "display_data"
    }
   ],
   "source": [
    "X = z['test actual']\n",
    "\n",
    "h = plt.hist(X, bins = 20,color='blue')\n",
    "dist_names = ['gamma', 'beta', 'rayleigh', 'norm', 'pareto']\n",
    "\n",
    "param = scipy.stats.gamma.fit(X)\n",
    "print(param)\n",
    "pdf_fitted = scipy.stats.gamma.pdf(np.linspace(0,1,len(X)), loc=param[-2], scale=param[-1]) * 1000\n",
    "plt.plot(np.linspace(0,1,len(X)),pdf_fitted, label=dist_name)"
   ]
  },
  {
   "cell_type": "code",
   "execution_count": 23,
   "metadata": {},
   "outputs": [
    {
     "ename": "ValueError",
     "evalue": "x and y must have same first dimension, but have shapes (19153,) and (481,)",
     "output_type": "error",
     "traceback": [
      "\u001b[0;31m---------------------------------------------------------------------------\u001b[0m",
      "\u001b[0;31mValueError\u001b[0m                                Traceback (most recent call last)",
      "\u001b[0;32m<ipython-input-23-c2f4315ebbf1>\u001b[0m in \u001b[0;36m<module>\u001b[0;34m()\u001b[0m\n\u001b[0;32m----> 1\u001b[0;31m \u001b[0mplt\u001b[0m\u001b[0;34m.\u001b[0m\u001b[0mplot\u001b[0m\u001b[0;34m(\u001b[0m\u001b[0mnp\u001b[0m\u001b[0;34m.\u001b[0m\u001b[0mlinspace\u001b[0m\u001b[0;34m(\u001b[0m\u001b[0;36m0\u001b[0m\u001b[0;34m,\u001b[0m\u001b[0;36m1\u001b[0m\u001b[0;34m,\u001b[0m\u001b[0mlen\u001b[0m\u001b[0;34m(\u001b[0m\u001b[0mz\u001b[0m\u001b[0;34m[\u001b[0m\u001b[0;34m'test actual'\u001b[0m\u001b[0;34m]\u001b[0m\u001b[0;34m)\u001b[0m\u001b[0;34m)\u001b[0m\u001b[0;34m,\u001b[0m\u001b[0mpdf_fitted\u001b[0m\u001b[0;34m,\u001b[0m \u001b[0mlabel\u001b[0m\u001b[0;34m=\u001b[0m\u001b[0mdist_name\u001b[0m\u001b[0;34m)\u001b[0m\u001b[0;34m\u001b[0m\u001b[0m\n\u001b[0m",
      "\u001b[0;32m~/anaconda3/lib/python3.6/site-packages/matplotlib/pyplot.py\u001b[0m in \u001b[0;36mplot\u001b[0;34m(*args, **kwargs)\u001b[0m\n\u001b[1;32m   3238\u001b[0m                       mplDeprecation)\n\u001b[1;32m   3239\u001b[0m     \u001b[0;32mtry\u001b[0m\u001b[0;34m:\u001b[0m\u001b[0;34m\u001b[0m\u001b[0m\n\u001b[0;32m-> 3240\u001b[0;31m         \u001b[0mret\u001b[0m \u001b[0;34m=\u001b[0m \u001b[0max\u001b[0m\u001b[0;34m.\u001b[0m\u001b[0mplot\u001b[0m\u001b[0;34m(\u001b[0m\u001b[0;34m*\u001b[0m\u001b[0margs\u001b[0m\u001b[0;34m,\u001b[0m \u001b[0;34m**\u001b[0m\u001b[0mkwargs\u001b[0m\u001b[0;34m)\u001b[0m\u001b[0;34m\u001b[0m\u001b[0m\n\u001b[0m\u001b[1;32m   3241\u001b[0m     \u001b[0;32mfinally\u001b[0m\u001b[0;34m:\u001b[0m\u001b[0;34m\u001b[0m\u001b[0m\n\u001b[1;32m   3242\u001b[0m         \u001b[0max\u001b[0m\u001b[0;34m.\u001b[0m\u001b[0m_hold\u001b[0m \u001b[0;34m=\u001b[0m \u001b[0mwashold\u001b[0m\u001b[0;34m\u001b[0m\u001b[0m\n",
      "\u001b[0;32m~/anaconda3/lib/python3.6/site-packages/matplotlib/__init__.py\u001b[0m in \u001b[0;36minner\u001b[0;34m(ax, *args, **kwargs)\u001b[0m\n\u001b[1;32m   1708\u001b[0m                     warnings.warn(msg % (label_namer, func.__name__),\n\u001b[1;32m   1709\u001b[0m                                   RuntimeWarning, stacklevel=2)\n\u001b[0;32m-> 1710\u001b[0;31m             \u001b[0;32mreturn\u001b[0m \u001b[0mfunc\u001b[0m\u001b[0;34m(\u001b[0m\u001b[0max\u001b[0m\u001b[0;34m,\u001b[0m \u001b[0;34m*\u001b[0m\u001b[0margs\u001b[0m\u001b[0;34m,\u001b[0m \u001b[0;34m**\u001b[0m\u001b[0mkwargs\u001b[0m\u001b[0;34m)\u001b[0m\u001b[0;34m\u001b[0m\u001b[0m\n\u001b[0m\u001b[1;32m   1711\u001b[0m         \u001b[0mpre_doc\u001b[0m \u001b[0;34m=\u001b[0m \u001b[0minner\u001b[0m\u001b[0;34m.\u001b[0m\u001b[0m__doc__\u001b[0m\u001b[0;34m\u001b[0m\u001b[0m\n\u001b[1;32m   1712\u001b[0m         \u001b[0;32mif\u001b[0m \u001b[0mpre_doc\u001b[0m \u001b[0;32mis\u001b[0m \u001b[0;32mNone\u001b[0m\u001b[0;34m:\u001b[0m\u001b[0;34m\u001b[0m\u001b[0m\n",
      "\u001b[0;32m~/anaconda3/lib/python3.6/site-packages/matplotlib/axes/_axes.py\u001b[0m in \u001b[0;36mplot\u001b[0;34m(self, *args, **kwargs)\u001b[0m\n\u001b[1;32m   1435\u001b[0m         \u001b[0mkwargs\u001b[0m \u001b[0;34m=\u001b[0m \u001b[0mcbook\u001b[0m\u001b[0;34m.\u001b[0m\u001b[0mnormalize_kwargs\u001b[0m\u001b[0;34m(\u001b[0m\u001b[0mkwargs\u001b[0m\u001b[0;34m,\u001b[0m \u001b[0m_alias_map\u001b[0m\u001b[0;34m)\u001b[0m\u001b[0;34m\u001b[0m\u001b[0m\n\u001b[1;32m   1436\u001b[0m \u001b[0;34m\u001b[0m\u001b[0m\n\u001b[0;32m-> 1437\u001b[0;31m         \u001b[0;32mfor\u001b[0m \u001b[0mline\u001b[0m \u001b[0;32min\u001b[0m \u001b[0mself\u001b[0m\u001b[0;34m.\u001b[0m\u001b[0m_get_lines\u001b[0m\u001b[0;34m(\u001b[0m\u001b[0;34m*\u001b[0m\u001b[0margs\u001b[0m\u001b[0;34m,\u001b[0m \u001b[0;34m**\u001b[0m\u001b[0mkwargs\u001b[0m\u001b[0;34m)\u001b[0m\u001b[0;34m:\u001b[0m\u001b[0;34m\u001b[0m\u001b[0m\n\u001b[0m\u001b[1;32m   1438\u001b[0m             \u001b[0mself\u001b[0m\u001b[0;34m.\u001b[0m\u001b[0madd_line\u001b[0m\u001b[0;34m(\u001b[0m\u001b[0mline\u001b[0m\u001b[0;34m)\u001b[0m\u001b[0;34m\u001b[0m\u001b[0m\n\u001b[1;32m   1439\u001b[0m             \u001b[0mlines\u001b[0m\u001b[0;34m.\u001b[0m\u001b[0mappend\u001b[0m\u001b[0;34m(\u001b[0m\u001b[0mline\u001b[0m\u001b[0;34m)\u001b[0m\u001b[0;34m\u001b[0m\u001b[0m\n",
      "\u001b[0;32m~/anaconda3/lib/python3.6/site-packages/matplotlib/axes/_base.py\u001b[0m in \u001b[0;36m_grab_next_args\u001b[0;34m(self, *args, **kwargs)\u001b[0m\n\u001b[1;32m    402\u001b[0m                 \u001b[0mthis\u001b[0m \u001b[0;34m+=\u001b[0m \u001b[0margs\u001b[0m\u001b[0;34m[\u001b[0m\u001b[0;36m0\u001b[0m\u001b[0;34m]\u001b[0m\u001b[0;34m,\u001b[0m\u001b[0;34m\u001b[0m\u001b[0m\n\u001b[1;32m    403\u001b[0m                 \u001b[0margs\u001b[0m \u001b[0;34m=\u001b[0m \u001b[0margs\u001b[0m\u001b[0;34m[\u001b[0m\u001b[0;36m1\u001b[0m\u001b[0;34m:\u001b[0m\u001b[0;34m]\u001b[0m\u001b[0;34m\u001b[0m\u001b[0m\n\u001b[0;32m--> 404\u001b[0;31m             \u001b[0;32mfor\u001b[0m \u001b[0mseg\u001b[0m \u001b[0;32min\u001b[0m \u001b[0mself\u001b[0m\u001b[0;34m.\u001b[0m\u001b[0m_plot_args\u001b[0m\u001b[0;34m(\u001b[0m\u001b[0mthis\u001b[0m\u001b[0;34m,\u001b[0m \u001b[0mkwargs\u001b[0m\u001b[0;34m)\u001b[0m\u001b[0;34m:\u001b[0m\u001b[0;34m\u001b[0m\u001b[0m\n\u001b[0m\u001b[1;32m    405\u001b[0m                 \u001b[0;32myield\u001b[0m \u001b[0mseg\u001b[0m\u001b[0;34m\u001b[0m\u001b[0m\n\u001b[1;32m    406\u001b[0m \u001b[0;34m\u001b[0m\u001b[0m\n",
      "\u001b[0;32m~/anaconda3/lib/python3.6/site-packages/matplotlib/axes/_base.py\u001b[0m in \u001b[0;36m_plot_args\u001b[0;34m(self, tup, kwargs)\u001b[0m\n\u001b[1;32m    382\u001b[0m             \u001b[0mx\u001b[0m\u001b[0;34m,\u001b[0m \u001b[0my\u001b[0m \u001b[0;34m=\u001b[0m \u001b[0mindex_of\u001b[0m\u001b[0;34m(\u001b[0m\u001b[0mtup\u001b[0m\u001b[0;34m[\u001b[0m\u001b[0;34m-\u001b[0m\u001b[0;36m1\u001b[0m\u001b[0;34m]\u001b[0m\u001b[0;34m)\u001b[0m\u001b[0;34m\u001b[0m\u001b[0m\n\u001b[1;32m    383\u001b[0m \u001b[0;34m\u001b[0m\u001b[0m\n\u001b[0;32m--> 384\u001b[0;31m         \u001b[0mx\u001b[0m\u001b[0;34m,\u001b[0m \u001b[0my\u001b[0m \u001b[0;34m=\u001b[0m \u001b[0mself\u001b[0m\u001b[0;34m.\u001b[0m\u001b[0m_xy_from_xy\u001b[0m\u001b[0;34m(\u001b[0m\u001b[0mx\u001b[0m\u001b[0;34m,\u001b[0m \u001b[0my\u001b[0m\u001b[0;34m)\u001b[0m\u001b[0;34m\u001b[0m\u001b[0m\n\u001b[0m\u001b[1;32m    385\u001b[0m \u001b[0;34m\u001b[0m\u001b[0m\n\u001b[1;32m    386\u001b[0m         \u001b[0;32mif\u001b[0m \u001b[0mself\u001b[0m\u001b[0;34m.\u001b[0m\u001b[0mcommand\u001b[0m \u001b[0;34m==\u001b[0m \u001b[0;34m'plot'\u001b[0m\u001b[0;34m:\u001b[0m\u001b[0;34m\u001b[0m\u001b[0m\n",
      "\u001b[0;32m~/anaconda3/lib/python3.6/site-packages/matplotlib/axes/_base.py\u001b[0m in \u001b[0;36m_xy_from_xy\u001b[0;34m(self, x, y)\u001b[0m\n\u001b[1;32m    241\u001b[0m         \u001b[0;32mif\u001b[0m \u001b[0mx\u001b[0m\u001b[0;34m.\u001b[0m\u001b[0mshape\u001b[0m\u001b[0;34m[\u001b[0m\u001b[0;36m0\u001b[0m\u001b[0;34m]\u001b[0m \u001b[0;34m!=\u001b[0m \u001b[0my\u001b[0m\u001b[0;34m.\u001b[0m\u001b[0mshape\u001b[0m\u001b[0;34m[\u001b[0m\u001b[0;36m0\u001b[0m\u001b[0;34m]\u001b[0m\u001b[0;34m:\u001b[0m\u001b[0;34m\u001b[0m\u001b[0m\n\u001b[1;32m    242\u001b[0m             raise ValueError(\"x and y must have same first dimension, but \"\n\u001b[0;32m--> 243\u001b[0;31m                              \"have shapes {} and {}\".format(x.shape, y.shape))\n\u001b[0m\u001b[1;32m    244\u001b[0m         \u001b[0;32mif\u001b[0m \u001b[0mx\u001b[0m\u001b[0;34m.\u001b[0m\u001b[0mndim\u001b[0m \u001b[0;34m>\u001b[0m \u001b[0;36m2\u001b[0m \u001b[0;32mor\u001b[0m \u001b[0my\u001b[0m\u001b[0;34m.\u001b[0m\u001b[0mndim\u001b[0m \u001b[0;34m>\u001b[0m \u001b[0;36m2\u001b[0m\u001b[0;34m:\u001b[0m\u001b[0;34m\u001b[0m\u001b[0m\n\u001b[1;32m    245\u001b[0m             raise ValueError(\"x and y can be no greater than 2-D, but have \"\n",
      "\u001b[0;31mValueError\u001b[0m: x and y must have same first dimension, but have shapes (19153,) and (481,)"
     ]
    },
    {
     "data": {
      "image/png": "[encoded data removed]",
      "text/plain": [
       "<matplotlib.figure.Figure at 0x120ab7fd0>"
      ]
     },
     "metadata": {},
     "output_type": "display_data"
    }
   ],
   "source": [
    "plt.plot(np.linspace(0,1,len(z['test actual'])),pdf_fitted, label=dist_name)"
   ]
  },
  {
   "cell_type": "code",
   "execution_count": 24,
   "metadata": {},
   "outputs": [
    {
     "data": {
      "image/png": "[encoded data removed]",
      "text/plain": [
       "<matplotlib.figure.Figure at 0x1239e17f0>"
      ]
     },
     "metadata": {},
     "output_type": "display_data"
    }
   ],
   "source": [
    "h = plt.hist(pdf_fitted, bins = 20,color='blue')"
   ]
  },
  {
   "cell_type": "code",
   "execution_count": 25,
   "metadata": {
    "collapsed": true
   },
   "outputs": [],
   "source": [
    "from scipy.stats import gamma"
   ]
  },
  {
   "cell_type": "code",
   "execution_count": 26,
   "metadata": {},
   "outputs": [
    {
     "data": {
      "text/plain": [
       "[<matplotlib.lines.Line2D at 0x1237f0630>]"
      ]
     },
     "execution_count": 26,
     "metadata": {},
     "output_type": "execute_result"
    },
    {
     "data": {
      "image/png": "[encoded data removed]",
      "text/plain": [
       "<matplotlib.figure.Figure at 0x1237f09b0>"
      ]
     },
     "metadata": {},
     "output_type": "display_data"
    }
   ],
   "source": [
    "fig, ax = plt.subplots(1,1)\n",
    "a = 1.99\n",
    "mean, var, skew, kurt = gamma.stats(a, moments='mvsk')\n",
    "x = np.linspace(gamma.ppf(0.01, a), gamma.ppf(0.99, a), 100)\n",
    "ax.plot(x, gamma.pdf(x, a),'r-', lw=5, alpha=0.6)"
   ]
  },
  {
   "cell_type": "code",
   "execution_count": 27,
   "metadata": {
    "collapsed": true
   },
   "outputs": [],
   "source": [
    "rv = gamma(a)\n",
    "ax.plot(x, rv.pdf(x), 'k-', lw=2, label='frozen pdf')\n",
    "\n",
    "vals = gamma.ppf([0.001, 0.5, 0.999], a)\n",
    "np.allclose([0.001, 0.5, 0.999], gamma.cdf(vals, a))\n",
    "\n",
    "r = gamma.rvs(a, size=1000)\n",
    "\n",
    "ax.hist(r, normed=True, histtype='stepfilled', alpha=0.5)\n",
    "ax.legend(loc='best', frameon=False)\n",
    "plt.show()"
   ]
  },
  {
   "cell_type": "code",
   "execution_count": 106,
   "metadata": {},
   "outputs": [
    {
     "name": "stdout",
     "output_type": "stream",
     "text": [
      "4.62763246392 -0.273231469805 0.0603981484227\n"
     ]
    }
   ],
   "source": [
    "pred = .8\n",
    "\n",
    "X = z[(z[0]<=pred + .05) & (z[0]>pred - .05)]['diff']\n",
    "\n",
    "fit_alpha, fit_loc, fit_beta=gamma.fit(X)\n",
    "print(fit_alpha, fit_loc, fit_beta)\n",
    "# (5.0833692504230008, 100.08697963283467, 21.739518937816108)\n",
    "\n",
    "#print(alpha, loc, beta)"
   ]
  },
  {
   "cell_type": "code",
   "execution_count": 107,
   "metadata": {
    "scrolled": true
   },
   "outputs": [
    {
     "data": {
      "image/png": "[encoded data removed]",
      "text/plain": [
       "<matplotlib.figure.Figure at 0x12380ca20>"
      ]
     },
     "metadata": {},
     "output_type": "display_data"
    }
   ],
   "source": [
    "d = gamma.rvs(fit_alpha, loc=fit_loc, scale=fit_beta, size=700)\n",
    "\n",
    "h = plt.hist(X, bins = 10,color='blue')"
   ]
  },
  {
   "cell_type": "code",
   "execution_count": 105,
   "metadata": {},
   "outputs": [
    {
     "data": {
      "image/png": "[encoded data removed]",
      "text/plain": [
       "<matplotlib.figure.Figure at 0x1221e8be0>"
      ]
     },
     "metadata": {},
     "output_type": "display_data"
    }
   ],
   "source": [
    "h = plt.hist(d, bins = 10,color='blue')"
   ]
  },
  {
   "cell_type": "code",
   "execution_count": 117,
   "metadata": {},
   "outputs": [
    {
     "data": {
      "text/plain": [
       "(array([  5122.,   4942.,   6495.,   8823.,  10943.,  11593.,   6472.,\n",
       "          7951.,   4511.,      0.,   1489.,   1511.,      0.,   1591.,\n",
       "          1513.,      0.,   1370.,      0.,   1169.,   1116.]),\n",
       " array([ 0.  ,  0.05,  0.1 ,  0.15,  0.2 ,  0.25,  0.3 ,  0.35,  0.4 ,\n",
       "         0.45,  0.5 ,  0.55,  0.6 ,  0.65,  0.7 ,  0.75,  0.8 ,  0.85,\n",
       "         0.9 ,  0.95,  1.  ]),\n",
       " <a list of 20 Patch objects>)"
      ]
     },
     "execution_count": 117,
     "metadata": {},
     "output_type": "execute_result"
    },
    {
     "data": {
      "image/png": "[encoded data removed]",
      "text/plain": [
       "<matplotlib.figure.Figure at 0x1286e2438>"
      ]
     },
     "metadata": {},
     "output_type": "display_data"
    }
   ],
   "source": [
    "plt.hist(df['hand strength pf'] ** 2, bins = 20, color ='blue')"
   ]
  },
  {
   "cell_type": "code",
   "execution_count": 125,
   "metadata": {},
   "outputs": [
    {
     "data": {
      "text/plain": [
       "(array([ 1491.,  1425.,  1885.,  2312.,  3182.,  2978.,  3233.,  3871.,\n",
       "         4932.,  4961.,  4428.,  4902.,  5332.,  6543.,  5215.,  5119.,\n",
       "         2817.,  3221.,  3892.,  4872.]),\n",
       " array([ 0.  ,  0.05,  0.1 ,  0.15,  0.2 ,  0.25,  0.3 ,  0.35,  0.4 ,\n",
       "         0.45,  0.5 ,  0.55,  0.6 ,  0.65,  0.7 ,  0.75,  0.8 ,  0.85,\n",
       "         0.9 ,  0.95,  1.  ]),\n",
       " <a list of 20 Patch objects>)"
      ]
     },
     "execution_count": 125,
     "metadata": {},
     "output_type": "execute_result"
    },
    {
     "data": {
      "image/png": "[encoded data removed]",
      "text/plain": [
       "<matplotlib.figure.Figure at 0x121427eb8>"
      ]
     },
     "metadata": {},
     "output_type": "display_data"
    }
   ],
   "source": [
    "plt.hist(df['hand strength rv'] ** 2, bins = 20, color ='blue')"
   ]
  },
  {
   "cell_type": "code",
   "execution_count": null,
   "metadata": {
    "collapsed": true
   },
   "outputs": [],
   "source": []
  },
  {
   "cell_type": "code",
   "execution_count": 108,
   "metadata": {},
   "outputs": [
    {
     "data": {
      "text/plain": [
       "-0.27323146980456248"
      ]
     },
     "execution_count": 108,
     "metadata": {},
     "output_type": "execute_result"
    }
   ],
   "source": [
    "gamma.ppf(0,fit_alpha, loc=fit_loc, scale=fit_beta)"
   ]
  },
  {
   "cell_type": "code",
   "execution_count": 109,
   "metadata": {
    "collapsed": true
   },
   "outputs": [],
   "source": [
    "pfequity = pd.read_csv('./tables/totalequity.csv')#adjust pfequity from 0-1\n",
    "pfequity = pfequity.drop('Unnamed: 0', axis = 1)\n",
    "pfequity['1'] = pfequity['1'] - pfequity['1'].min()\n",
    "pfequity['1'] = pfequity['1']/pfequity['1'].max()\n",
    "pfequity = pfequity.set_index(['0'])\n",
    "\n",
    "allpfequity = pd.read_csv('./tables/allequity.csv')\n",
    "allpfequity = allpfequity.set_index('0')"
   ]
  },
  {
   "cell_type": "code",
   "execution_count": 110,
   "metadata": {},
   "outputs": [
    {
     "name": "stdout",
     "output_type": "stream",
     "text": [
      "            1\n",
      "0            \n",
      "AKs  0.664006\n",
      "AQs  0.647740\n",
      "AJs  0.631291\n",
      "ATs  0.614975\n",
      "A9s  0.579436\n",
      "A8s  0.561447\n",
      "A7s  0.541316\n",
      "A6s  0.519630\n",
      "A5s  0.517569\n",
      "A4s  0.500936\n",
      "A3s  0.486522\n",
      "A2s  0.471640\n",
      "AA   1.000000\n",
      "AKo  0.632580\n",
      "AQo  0.615332\n",
      "AJo  0.597850\n",
      "ATo  0.580485\n",
      "A9o  0.542448\n",
      "A8o  0.523135\n",
      "A7o  0.501505\n",
      "A6o  0.478177\n",
      "A5o  0.475878\n",
      "A4o  0.457753\n",
      "A3o  0.441996\n",
      "A2o  0.425692\n",
      "KQs  0.595574\n",
      "KJs  0.578841\n",
      "KTs  0.562870\n",
      "K9s  0.527876\n",
      "K8s  0.494698\n",
      "..        ...\n",
      "76o  0.186998\n",
      "75o  0.151461\n",
      "74o  0.115317\n",
      "73o  0.080414\n",
      "72o  0.044366\n",
      "65s  0.199466\n",
      "64s  0.165939\n",
      "63s  0.133698\n",
      "62s  0.100518\n",
      "66   0.600810\n",
      "65o  0.139576\n",
      "64o  0.103489\n",
      "63o  0.068777\n",
      "62o  0.033024\n",
      "54s  0.166864\n",
      "53s  0.135013\n",
      "52s  0.102170\n",
      "55   0.545865\n",
      "54o  0.104778\n",
      "53o  0.070486\n",
      "52o  0.035092\n",
      "43s  0.116495\n",
      "42s  0.084006\n",
      "44   0.485112\n",
      "43o  0.050758\n",
      "42o  0.015764\n",
      "32s  0.069175\n",
      "33   0.423752\n",
      "32o  0.000000\n",
      "22   0.361732\n",
      "\n",
      "[169 rows x 1 columns]\n"
     ]
    }
   ],
   "source": [
    "print(pfequity)"
   ]
  },
  {
   "cell_type": "code",
   "execution_count": 75,
   "metadata": {
    "collapsed": true
   },
   "outputs": [],
   "source": [
    "import itertools\n",
    "import tools\n",
    "import deck as dk"
   ]
  },
  {
   "cell_type": "code",
   "execution_count": 88,
   "metadata": {},
   "outputs": [],
   "source": [
    "def handprobability():\n",
    "    startinghands = []\n",
    "    d = dk.Deck()\n",
    "    startinghands += itertools.combinations(d.deck, 2)\n",
    "    startinghands = [str(h[0]) + str(h[1]) for h in startinghands]\n",
    "    startinghands = pd.DataFrame(startinghands)\n",
    "    startinghands['rank'] = [[h[0:2],h[2:4]] for h in startinghands[0]]\n",
    "    startinghands['rank'] = [tools.startinghandsrank(h) for h in startinghands['rank']]\n",
    "    startinghands = startinghands.set_index(0)\n",
    "    startinghands = startinghands.sort_values('rank', ascending = False)\n",
    "    startinghands['num'] = np.arange(len(startinghands['rank']))\n",
    "    plt.plot(startinghands['num'], startinghands['rank'])\n",
    "    return startinghands"
   ]
  },
  {
   "cell_type": "code",
   "execution_count": null,
   "metadata": {
    "collapsed": true
   },
   "outputs": [],
   "source": []
  },
  {
   "cell_type": "code",
   "execution_count": 89,
   "metadata": {},
   "outputs": [
    {
     "name": "stdout",
     "output_type": "stream",
     "text": [
      "          rank   num\n",
      "0                   \n",
      "AsAd  1.000000     0\n",
      "AsAh  1.000000     1\n",
      "AsAc  1.000000     2\n",
      "AdAc  1.000000     3\n",
      "AhAd  1.000000     4\n",
      "AhAc  1.000000     5\n",
      "KsKc  0.949462     6\n",
      "KdKc  0.949462     7\n",
      "KsKh  0.949462     8\n",
      "KhKc  0.949462     9\n",
      "KsKd  0.949462    10\n",
      "KhKd  0.949462    11\n",
      "QdQc  0.904836    12\n",
      "QsQh  0.904836    13\n",
      "QhQd  0.904836    14\n",
      "QhQc  0.904836    15\n",
      "QsQc  0.904836    16\n",
      "QsQd  0.904836    17\n",
      "JsJc  0.860323    18\n",
      "JsJd  0.860323    19\n",
      "JsJh  0.860323    20\n",
      "JhJd  0.860323    21\n",
      "JhJc  0.860323    22\n",
      "JdJc  0.860323    23\n",
      "TsTd  0.815565    24\n",
      "TsTh  0.815565    25\n",
      "TsTc  0.815565    26\n",
      "ThTd  0.815565    27\n",
      "TdTc  0.815565    28\n",
      "ThTc  0.815565    29\n",
      "...        ...   ...\n",
      "2d6c  0.033024  1296\n",
      "6h2c  0.033024  1297\n",
      "2s6h  0.033024  1298\n",
      "2s6c  0.033024  1299\n",
      "6h2d  0.033024  1300\n",
      "2s6d  0.033024  1301\n",
      "2h4d  0.015764  1302\n",
      "2h4c  0.015764  1303\n",
      "2d4c  0.015764  1304\n",
      "4h2d  0.015764  1305\n",
      "4s2h  0.015764  1306\n",
      "2s4d  0.015764  1307\n",
      "4s2d  0.015764  1308\n",
      "4h2c  0.015764  1309\n",
      "4s2c  0.015764  1310\n",
      "4d2c  0.015764  1311\n",
      "2s4c  0.015764  1312\n",
      "2s4h  0.015764  1313\n",
      "2s3h  0.000000  1314\n",
      "2h3c  0.000000  1315\n",
      "2s3d  0.000000  1316\n",
      "3s2h  0.000000  1317\n",
      "3s2c  0.000000  1318\n",
      "2h3d  0.000000  1319\n",
      "3d2c  0.000000  1320\n",
      "3s2d  0.000000  1321\n",
      "3h2d  0.000000  1322\n",
      "3h2c  0.000000  1323\n",
      "2d3c  0.000000  1324\n",
      "2s3c  0.000000  1325\n",
      "\n",
      "[1326 rows x 2 columns]\n"
     ]
    },
    {
     "data": {
      "image/png": "[encoded data removed]",
      "text/plain": [
       "<matplotlib.figure.Figure at 0x121411da0>"
      ]
     },
     "metadata": {},
     "output_type": "display_data"
    }
   ],
   "source": [
    "print(handprobability())"
   ]
  },
  {
   "cell_type": "code",
   "execution_count": 35,
   "metadata": {
    "collapsed": true
   },
   "outputs": [],
   "source": [
    "pfequity = pfequity.sort_values('1', ascending = False)"
   ]
  },
  {
   "cell_type": "code",
   "execution_count": 36,
   "metadata": {
    "collapsed": true
   },
   "outputs": [],
   "source": [
    "pfequity['rank'] = np.arange(len(pfequity['1']))"
   ]
  },
  {
   "cell_type": "code",
   "execution_count": 37,
   "metadata": {},
   "outputs": [
    {
     "data": {
      "text/html": [
       "<div>\n",
       "<style>\n",
       "    .dataframe thead tr:only-child th {\n",
       "        text-align: right;\n",
       "    }\n",
       "\n",
       "    .dataframe thead th {\n",
       "        text-align: left;\n",
       "    }\n",
       "\n",
       "    .dataframe tbody tr th {\n",
       "        vertical-align: top;\n",
       "    }\n",
       "</style>\n",
       "<table border=\"1\" class=\"dataframe\">\n",
       "  <thead>\n",
       "    <tr style=\"text-align: right;\">\n",
       "      <th></th>\n",
       "      <th>1</th>\n",
       "      <th>rank</th>\n",
       "    </tr>\n",
       "    <tr>\n",
       "      <th>0</th>\n",
       "      <th></th>\n",
       "      <th></th>\n",
       "    </tr>\n",
       "  </thead>\n",
       "  <tbody>\n",
       "    <tr>\n",
       "      <th>AA</th>\n",
       "      <td>1.000000</td>\n",
       "      <td>0</td>\n",
       "    </tr>\n",
       "    <tr>\n",
       "      <th>KK</th>\n",
       "      <td>0.949462</td>\n",
       "      <td>1</td>\n",
       "    </tr>\n",
       "    <tr>\n",
       "      <th>QQ</th>\n",
       "      <td>0.904836</td>\n",
       "      <td>2</td>\n",
       "    </tr>\n",
       "    <tr>\n",
       "      <th>JJ</th>\n",
       "      <td>0.860323</td>\n",
       "      <td>3</td>\n",
       "    </tr>\n",
       "    <tr>\n",
       "      <th>TT</th>\n",
       "      <td>0.815565</td>\n",
       "      <td>4</td>\n",
       "    </tr>\n",
       "    <tr>\n",
       "      <th>99</th>\n",
       "      <td>0.761794</td>\n",
       "      <td>5</td>\n",
       "    </tr>\n",
       "    <tr>\n",
       "      <th>88</th>\n",
       "      <td>0.708856</td>\n",
       "      <td>6</td>\n",
       "    </tr>\n",
       "    <tr>\n",
       "      <th>AKs</th>\n",
       "      <td>0.664006</td>\n",
       "      <td>7</td>\n",
       "    </tr>\n",
       "    <tr>\n",
       "      <th>77</th>\n",
       "      <td>0.655132</td>\n",
       "      <td>8</td>\n",
       "    </tr>\n",
       "    <tr>\n",
       "      <th>AQs</th>\n",
       "      <td>0.647740</td>\n",
       "      <td>9</td>\n",
       "    </tr>\n",
       "    <tr>\n",
       "      <th>AKo</th>\n",
       "      <td>0.632580</td>\n",
       "      <td>10</td>\n",
       "    </tr>\n",
       "    <tr>\n",
       "      <th>AJs</th>\n",
       "      <td>0.631291</td>\n",
       "      <td>11</td>\n",
       "    </tr>\n",
       "    <tr>\n",
       "      <th>AQo</th>\n",
       "      <td>0.615332</td>\n",
       "      <td>12</td>\n",
       "    </tr>\n",
       "    <tr>\n",
       "      <th>ATs</th>\n",
       "      <td>0.614975</td>\n",
       "      <td>13</td>\n",
       "    </tr>\n",
       "    <tr>\n",
       "      <th>66</th>\n",
       "      <td>0.600810</td>\n",
       "      <td>14</td>\n",
       "    </tr>\n",
       "    <tr>\n",
       "      <th>AJo</th>\n",
       "      <td>0.597850</td>\n",
       "      <td>15</td>\n",
       "    </tr>\n",
       "    <tr>\n",
       "      <th>KQs</th>\n",
       "      <td>0.595574</td>\n",
       "      <td>16</td>\n",
       "    </tr>\n",
       "    <tr>\n",
       "      <th>ATo</th>\n",
       "      <td>0.580485</td>\n",
       "      <td>17</td>\n",
       "    </tr>\n",
       "    <tr>\n",
       "      <th>A9s</th>\n",
       "      <td>0.579436</td>\n",
       "      <td>18</td>\n",
       "    </tr>\n",
       "    <tr>\n",
       "      <th>KJs</th>\n",
       "      <td>0.578841</td>\n",
       "      <td>19</td>\n",
       "    </tr>\n",
       "    <tr>\n",
       "      <th>KTs</th>\n",
       "      <td>0.562870</td>\n",
       "      <td>20</td>\n",
       "    </tr>\n",
       "    <tr>\n",
       "      <th>A8s</th>\n",
       "      <td>0.561447</td>\n",
       "      <td>21</td>\n",
       "    </tr>\n",
       "    <tr>\n",
       "      <th>KQo</th>\n",
       "      <td>0.560090</td>\n",
       "      <td>22</td>\n",
       "    </tr>\n",
       "    <tr>\n",
       "      <th>55</th>\n",
       "      <td>0.545865</td>\n",
       "      <td>23</td>\n",
       "    </tr>\n",
       "    <tr>\n",
       "      <th>A9o</th>\n",
       "      <td>0.542448</td>\n",
       "      <td>24</td>\n",
       "    </tr>\n",
       "    <tr>\n",
       "      <th>KJo</th>\n",
       "      <td>0.542296</td>\n",
       "      <td>25</td>\n",
       "    </tr>\n",
       "    <tr>\n",
       "      <th>A7s</th>\n",
       "      <td>0.541316</td>\n",
       "      <td>26</td>\n",
       "    </tr>\n",
       "    <tr>\n",
       "      <th>QJs</th>\n",
       "      <td>0.535646</td>\n",
       "      <td>27</td>\n",
       "    </tr>\n",
       "    <tr>\n",
       "      <th>K9s</th>\n",
       "      <td>0.527876</td>\n",
       "      <td>28</td>\n",
       "    </tr>\n",
       "    <tr>\n",
       "      <th>KTo</th>\n",
       "      <td>0.525292</td>\n",
       "      <td>29</td>\n",
       "    </tr>\n",
       "    <tr>\n",
       "      <th>...</th>\n",
       "      <td>...</td>\n",
       "      <td>...</td>\n",
       "    </tr>\n",
       "    <tr>\n",
       "      <th>94o</th>\n",
       "      <td>0.158843</td>\n",
       "      <td>139</td>\n",
       "    </tr>\n",
       "    <tr>\n",
       "      <th>82s</th>\n",
       "      <td>0.151542</td>\n",
       "      <td>140</td>\n",
       "    </tr>\n",
       "    <tr>\n",
       "      <th>75o</th>\n",
       "      <td>0.151461</td>\n",
       "      <td>141</td>\n",
       "    </tr>\n",
       "    <tr>\n",
       "      <th>93o</th>\n",
       "      <td>0.147030</td>\n",
       "      <td>142</td>\n",
       "    </tr>\n",
       "    <tr>\n",
       "      <th>73s</th>\n",
       "      <td>0.144797</td>\n",
       "      <td>143</td>\n",
       "    </tr>\n",
       "    <tr>\n",
       "      <th>65o</th>\n",
       "      <td>0.139576</td>\n",
       "      <td>144</td>\n",
       "    </tr>\n",
       "    <tr>\n",
       "      <th>53s</th>\n",
       "      <td>0.135013</td>\n",
       "      <td>145</td>\n",
       "    </tr>\n",
       "    <tr>\n",
       "      <th>84o</th>\n",
       "      <td>0.134124</td>\n",
       "      <td>146</td>\n",
       "    </tr>\n",
       "    <tr>\n",
       "      <th>63s</th>\n",
       "      <td>0.133698</td>\n",
       "      <td>147</td>\n",
       "    </tr>\n",
       "    <tr>\n",
       "      <th>92o</th>\n",
       "      <td>0.130674</td>\n",
       "      <td>148</td>\n",
       "    </tr>\n",
       "    <tr>\n",
       "      <th>43s</th>\n",
       "      <td>0.116495</td>\n",
       "      <td>149</td>\n",
       "    </tr>\n",
       "    <tr>\n",
       "      <th>74o</th>\n",
       "      <td>0.115317</td>\n",
       "      <td>150</td>\n",
       "    </tr>\n",
       "    <tr>\n",
       "      <th>72s</th>\n",
       "      <td>0.111333</td>\n",
       "      <td>151</td>\n",
       "    </tr>\n",
       "    <tr>\n",
       "      <th>54o</th>\n",
       "      <td>0.104778</td>\n",
       "      <td>152</td>\n",
       "    </tr>\n",
       "    <tr>\n",
       "      <th>64o</th>\n",
       "      <td>0.103489</td>\n",
       "      <td>153</td>\n",
       "    </tr>\n",
       "    <tr>\n",
       "      <th>52s</th>\n",
       "      <td>0.102170</td>\n",
       "      <td>154</td>\n",
       "    </tr>\n",
       "    <tr>\n",
       "      <th>62s</th>\n",
       "      <td>0.100518</td>\n",
       "      <td>155</td>\n",
       "    </tr>\n",
       "    <tr>\n",
       "      <th>83o</th>\n",
       "      <td>0.098943</td>\n",
       "      <td>156</td>\n",
       "    </tr>\n",
       "    <tr>\n",
       "      <th>82o</th>\n",
       "      <td>0.087038</td>\n",
       "      <td>157</td>\n",
       "    </tr>\n",
       "    <tr>\n",
       "      <th>42s</th>\n",
       "      <td>0.084006</td>\n",
       "      <td>158</td>\n",
       "    </tr>\n",
       "    <tr>\n",
       "      <th>73o</th>\n",
       "      <td>0.080414</td>\n",
       "      <td>159</td>\n",
       "    </tr>\n",
       "    <tr>\n",
       "      <th>53o</th>\n",
       "      <td>0.070486</td>\n",
       "      <td>160</td>\n",
       "    </tr>\n",
       "    <tr>\n",
       "      <th>32s</th>\n",
       "      <td>0.069175</td>\n",
       "      <td>161</td>\n",
       "    </tr>\n",
       "    <tr>\n",
       "      <th>63o</th>\n",
       "      <td>0.068777</td>\n",
       "      <td>162</td>\n",
       "    </tr>\n",
       "    <tr>\n",
       "      <th>43o</th>\n",
       "      <td>0.050758</td>\n",
       "      <td>163</td>\n",
       "    </tr>\n",
       "    <tr>\n",
       "      <th>72o</th>\n",
       "      <td>0.044366</td>\n",
       "      <td>164</td>\n",
       "    </tr>\n",
       "    <tr>\n",
       "      <th>52o</th>\n",
       "      <td>0.035092</td>\n",
       "      <td>165</td>\n",
       "    </tr>\n",
       "    <tr>\n",
       "      <th>62o</th>\n",
       "      <td>0.033024</td>\n",
       "      <td>166</td>\n",
       "    </tr>\n",
       "    <tr>\n",
       "      <th>42o</th>\n",
       "      <td>0.015764</td>\n",
       "      <td>167</td>\n",
       "    </tr>\n",
       "    <tr>\n",
       "      <th>32o</th>\n",
       "      <td>0.000000</td>\n",
       "      <td>168</td>\n",
       "    </tr>\n",
       "  </tbody>\n",
       "</table>\n",
       "<p>169 rows × 2 columns</p>\n",
       "</div>"
      ],
      "text/plain": [
       "            1  rank\n",
       "0                  \n",
       "AA   1.000000     0\n",
       "KK   0.949462     1\n",
       "QQ   0.904836     2\n",
       "JJ   0.860323     3\n",
       "TT   0.815565     4\n",
       "99   0.761794     5\n",
       "88   0.708856     6\n",
       "AKs  0.664006     7\n",
       "77   0.655132     8\n",
       "AQs  0.647740     9\n",
       "AKo  0.632580    10\n",
       "AJs  0.631291    11\n",
       "AQo  0.615332    12\n",
       "ATs  0.614975    13\n",
       "66   0.600810    14\n",
       "AJo  0.597850    15\n",
       "KQs  0.595574    16\n",
       "ATo  0.580485    17\n",
       "A9s  0.579436    18\n",
       "KJs  0.578841    19\n",
       "KTs  0.562870    20\n",
       "A8s  0.561447    21\n",
       "KQo  0.560090    22\n",
       "55   0.545865    23\n",
       "A9o  0.542448    24\n",
       "KJo  0.542296    25\n",
       "A7s  0.541316    26\n",
       "QJs  0.535646    27\n",
       "K9s  0.527876    28\n",
       "KTo  0.525292    29\n",
       "..        ...   ...\n",
       "94o  0.158843   139\n",
       "82s  0.151542   140\n",
       "75o  0.151461   141\n",
       "93o  0.147030   142\n",
       "73s  0.144797   143\n",
       "65o  0.139576   144\n",
       "53s  0.135013   145\n",
       "84o  0.134124   146\n",
       "63s  0.133698   147\n",
       "92o  0.130674   148\n",
       "43s  0.116495   149\n",
       "74o  0.115317   150\n",
       "72s  0.111333   151\n",
       "54o  0.104778   152\n",
       "64o  0.103489   153\n",
       "52s  0.102170   154\n",
       "62s  0.100518   155\n",
       "83o  0.098943   156\n",
       "82o  0.087038   157\n",
       "42s  0.084006   158\n",
       "73o  0.080414   159\n",
       "53o  0.070486   160\n",
       "32s  0.069175   161\n",
       "63o  0.068777   162\n",
       "43o  0.050758   163\n",
       "72o  0.044366   164\n",
       "52o  0.035092   165\n",
       "62o  0.033024   166\n",
       "42o  0.015764   167\n",
       "32o  0.000000   168\n",
       "\n",
       "[169 rows x 2 columns]"
      ]
     },
     "execution_count": 37,
     "metadata": {},
     "output_type": "execute_result"
    }
   ],
   "source": [
    "pfequity"
   ]
  },
  {
   "cell_type": "code",
   "execution_count": 38,
   "metadata": {},
   "outputs": [
    {
     "data": {
      "text/plain": [
       "[<matplotlib.lines.Line2D at 0x1200b7b38>]"
      ]
     },
     "execution_count": 38,
     "metadata": {},
     "output_type": "execute_result"
    },
    {
     "data": {
      "image/png": "[encoded data removed]",
      "text/plain": [
       "<matplotlib.figure.Figure at 0x123361668>"
      ]
     },
     "metadata": {},
     "output_type": "display_data"
    }
   ],
   "source": [
    "plt.plot(pfequity['rank'], pfequity['1'])"
   ]
  },
  {
   "cell_type": "code",
   "execution_count": 131,
   "metadata": {},
   "outputs": [
    {
     "name": "stdout",
     "output_type": "stream",
     "text": [
      "stack/pfpot          -0.200366\n",
      "stack/flpot          -0.190875\n",
      "stack/trpot          -0.180963\n",
      "stack/rvpot          -0.174402\n",
      "position pf/#pl pf   -0.107850\n",
      "position pf          -0.085252\n",
      "bluff flop           -0.064249\n",
      "position fl          -0.055148\n",
      "position tr          -0.051531\n",
      "position rv          -0.047296\n",
      "position fl/#pl fl   -0.042762\n",
      "position tr/#pl tr   -0.041460\n",
      "position rv/#pl rv   -0.040346\n",
      "#pl tr               -0.037062\n",
      "#pl rv               -0.034076\n",
      "#pl fl               -0.032059\n",
      "rv bets/pot           0.010332\n",
      "tr bets/pot           0.013650\n",
      "rv stack(bb)          0.018844\n",
      "fl bets/pot           0.020206\n",
      "tr stack(bb)          0.032055\n",
      "cluster               0.036977\n",
      "fl stack(bb)          0.040780\n",
      "Unnamed: 0            0.045677\n",
      "pf stack(bb)          0.053160\n",
      "rv agg                0.066420\n",
      "#pl pf                0.077755\n",
      "tr agg                0.100878\n",
      "rv bets(bb)           0.104847\n",
      "bets/stacks           0.126357\n",
      "tot bets/stack        0.126492\n",
      "hand strength ^2      0.129926\n",
      "tr bets(bb)           0.131579\n",
      "hand strength rv      0.140983\n",
      "tot agg               0.141155\n",
      "fl agg                0.155528\n",
      "fl bets(bb)           0.163369\n",
      "tot bets              0.175632\n",
      "log tot bets/stack    0.179597\n",
      "log tot agg           0.208949\n",
      "log tot bets          0.234556\n",
      "hand strength tr      0.242153\n",
      "pf bets(bb)           0.290451\n",
      "pf agg                0.349597\n",
      "hand strength fl      0.376682\n",
      "hand strength pf      1.000000\n",
      "bluff turn                 NaN\n",
      "bluff river                NaN\n",
      "street reached             NaN\n",
      "Name: hand strength pf, dtype: float64\n"
     ]
    }
   ],
   "source": [
    "print(df.corr()['hand strength pf'].sort_values())"
   ]
  },
  {
   "cell_type": "code",
   "execution_count": null,
   "metadata": {
    "collapsed": true
   },
   "outputs": [],
   "source": []
  }
 ],
 "metadata": {
  "kernelspec": {
   "display_name": "Python 3",
   "language": "python",
   "name": "python3"
  },
  "language_info": {
   "codemirror_mode": {
    "name": "ipython",
    "version": 3
   },
   "file_extension": ".py",
   "mimetype": "text/x-python",
   "name": "python",
   "nbconvert_exporter": "python",
   "pygments_lexer": "ipython3",
   "version": "3.6.3"
  }
 },
 "nbformat": 4,
 "nbformat_minor": 2
}
