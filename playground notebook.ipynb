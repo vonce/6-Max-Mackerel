{
 "cells": [
  {
   "cell_type": "code",
   "execution_count": 1,
   "metadata": {
    "collapsed": true
   },
   "outputs": [],
   "source": [
    "import pandas as pd\n",
    "import numpy as np\n",
    "import scipy\n",
    "import scipy.stats\n",
    "import os\n",
    "import tools"
   ]
  },
  {
   "cell_type": "code",
   "execution_count": 2,
   "metadata": {
    "collapsed": true
   },
   "outputs": [],
   "source": [
    "data = pd.read_csv('data.csv')"
   ]
  },
  {
   "cell_type": "code",
   "execution_count": 3,
   "metadata": {
    "collapsed": true
   },
   "outputs": [],
   "source": [
    "stats = pd.read_csv('stats.csv')"
   ]
  },
  {
   "cell_type": "code",
   "execution_count": 4,
   "metadata": {
    "scrolled": true
   },
   "outputs": [
    {
     "data": {
      "text/plain": [
       "Index(['Unnamed: 0', 'filename', 'name', 'hand', 'board', 'board texture flop',\n",
       "       'board texture turn', 'pf stack(bb)', '#pl pf', 'position pf',\n",
       "       'position pf/#pl pf', 'pf bets(bb)', 'pf agg', 'stack/pfpot',\n",
       "       'hand strength pf', 'fl stack(bb)', '#pl fl', 'position fl',\n",
       "       'position fl/#pl fl', 'fl bets(bb)', 'fl bets/pot', 'fl agg',\n",
       "       'stack/flpot', 'hand strength fl', 'eff hand strength fl', 'bluff flop',\n",
       "       'total bets flop', 'tr stack(bb)', '#pl tr', 'position tr',\n",
       "       'position tr/#pl tr', 'tr bets(bb)', 'tr bets/pot', 'tr agg',\n",
       "       'stack/trpot', 'hand strength tr', 'eff hand strength tr', 'bluff turn',\n",
       "       'total bets turn', 'rv stack(bb)', '#pl rv', 'position rv',\n",
       "       'position rv/#pl rv', 'rv bets(bb)', 'rv bets/pot', 'rv agg',\n",
       "       'stack/rvpot', 'hand strength rv', 'bluff river', 'tot bets', 'tot agg',\n",
       "       'bets/stacks', 'street reached'],\n",
       "      dtype='object')"
      ]
     },
     "execution_count": 4,
     "metadata": {},
     "output_type": "execute_result"
    }
   ],
   "source": [
    "data.columns"
   ]
  },
  {
   "cell_type": "code",
   "execution_count": 5,
   "metadata": {
    "scrolled": true
   },
   "outputs": [
    {
     "data": {
      "text/plain": [
       "Index(['Unnamed: 0', 'avgstack', 'net', 'foldpf', 'callpf', 'raisepf',\n",
       "       'foldtoraisepf', 'numraisedpf', 'reraisepf', 'foldtoreraisepf',\n",
       "       'numreraisedpf', 'numplayedpf', 'pctseenfl', 'foldfl', 'callfl',\n",
       "       'betfl', 'raisefl', 'foldtoraisefl', 'numraisedfl', 'reraisefl',\n",
       "       'foldtoreraisefl', 'numreraisedfl', 'numplayedfl', 'pctseentr',\n",
       "       'foldtr', 'calltr', 'bettr', 'raisetr', 'foldtoraisetr', 'numraisedtr',\n",
       "       'reraisetr', 'foldtoreraisetr', 'numreraisedtr', 'numplayedtr',\n",
       "       'pctseenrv', 'foldrv', 'callrv', 'betrv', 'raiserv', 'foldtoraiserv',\n",
       "       'numraisedrv', 'reraiserv', 'foldtoreraiserv', 'numreraisedrv',\n",
       "       'numplayedrv', 'pctseensd', 'numplayedsd', 'winpercent', 'bb/100hands'],\n",
       "      dtype='object')"
      ]
     },
     "execution_count": 5,
     "metadata": {},
     "output_type": "execute_result"
    }
   ],
   "source": [
    "stats.columns"
   ]
  },
  {
   "cell_type": "code",
   "execution_count": 6,
   "metadata": {
    "scrolled": false
   },
   "outputs": [
    {
     "data": {
      "text/plain": [
       "0.81714695692062378"
      ]
     },
     "execution_count": 6,
     "metadata": {},
     "output_type": "execute_result"
    }
   ],
   "source": [
    "tools.startinghandsequity(['As','Ad'], ['Ks','Kh'])"
   ]
  },
  {
   "cell_type": "code",
   "execution_count": 8,
   "metadata": {
    "scrolled": false
   },
   "outputs": [],
   "source": [
    "import pandas as pd\n",
    "import numpy as np\n",
    "from sklearn.ensemble import GradientBoostingRegressor, RandomForestRegressor\n",
    "from sklearn.model_selection import train_test_split, GridSearchCV\n",
    "from sklearn.pipeline import Pipeline\n",
    "from sklearn.preprocessing import StandardScaler\n",
    "import matplotlib.pyplot as plt\n",
    "\n",
    "%matplotlib inline\n"
   ]
  },
  {
   "cell_type": "code",
   "execution_count": null,
   "metadata": {},
   "outputs": [],
   "source": [
    "pd.set_option('display.max_columns', None)\n",
    "print(df.head())"
   ]
  },
  {
   "cell_type": "code",
   "execution_count": null,
   "metadata": {},
   "outputs": [],
   "source": [
    "z[(z[0]<=1) & (z[0]>.90)]['diff'].plot.hist()\n",
    "#z['diff'].plot.hist()"
   ]
  },
  {
   "cell_type": "code",
   "execution_count": null,
   "metadata": {},
   "outputs": [],
   "source": [
    "z[0].plot.hist(bins = 20)"
   ]
  },
  {
   "cell_type": "code",
   "execution_count": null,
   "metadata": {},
   "outputs": [],
   "source": [
    "print(max(z[0]))"
   ]
  },
  {
   "cell_type": "code",
   "execution_count": null,
   "metadata": {},
   "outputs": [],
   "source": [
    "z['test actual'].plot.hist(bins = 20)"
   ]
  },
  {
   "cell_type": "code",
   "execution_count": null,
   "metadata": {},
   "outputs": [],
   "source": [
    "X = z[(z[0]<=1) & (z[0]>.85)]['diff']\n",
    "\n",
    "\n",
    "dist_names = ['gamma', 'beta', 'rayleigh', 'norm', 'pareto']\n",
    "\n",
    "for dist_name in dist_names:\n",
    "    dist = getattr(scipy.stats, dist_name)\n",
    "    param = dist.fit(X)\n",
    "    pdf_fitted = dist.pdf(np.linspace(0,1,len(X)), *param[:-2], loc=param[-2], scale=param[-1]) * max(X) \n",
    "\n",
    "    plt.plot(np.linspace(0,1,len(X)), pdf_fitted, label=dist_name)\n",
    "\n",
    "#param = rayleigh.fit(z['test actual'])\n",
    "plt.legend(loc='upper right')\n",
    "plt.show()\n",
    "\n"
   ]
  },
  {
   "cell_type": "code",
   "execution_count": null,
   "metadata": {
    "scrolled": true
   },
   "outputs": [],
   "source": [
    "print(np.linspace(0,1,len(z['test actual'])))"
   ]
  },
  {
   "cell_type": "code",
   "execution_count": null,
   "metadata": {},
   "outputs": [],
   "source": [
    "print(pdf_fitted)"
   ]
  },
  {
   "cell_type": "code",
   "execution_count": null,
   "metadata": {},
   "outputs": [],
   "source": [
    "X = z['test actual']\n",
    "\n",
    "h = plt.hist(X, bins = 20,color='blue')\n",
    "dist_names = ['gamma', 'beta', 'rayleigh', 'norm', 'pareto']\n",
    "\n",
    "param = scipy.stats.gamma.fit(X)\n",
    "print(param)\n",
    "pdf_fitted = scipy.stats.gamma.pdf(np.linspace(0,1,len(X)), loc=param[-2], scale=param[-1]) * 1000\n",
    "plt.plot(np.linspace(0,1,len(X)),pdf_fitted, label=dist_name)"
   ]
  },
  {
   "cell_type": "code",
   "execution_count": null,
   "metadata": {},
   "outputs": [],
   "source": [
    "h = plt.hist(pdf_fitted, bins = 20,color='blue')"
   ]
  },
  {
   "cell_type": "code",
   "execution_count": null,
   "metadata": {
    "collapsed": true
   },
   "outputs": [],
   "source": [
    "from scipy.stats import gamma"
   ]
  },
  {
   "cell_type": "code",
   "execution_count": null,
   "metadata": {},
   "outputs": [],
   "source": [
    "fig, ax = plt.subplots(1,1)\n",
    "a = 1.99\n",
    "mean, var, skew, kurt = gamma.stats(a, moments='mvsk')\n",
    "x = np.linspace(gamma.ppf(0.01, a), gamma.ppf(0.99, a), 100)\n",
    "ax.plot(x, gamma.pdf(x, a),'r-', lw=5, alpha=0.6)"
   ]
  },
  {
   "cell_type": "code",
   "execution_count": null,
   "metadata": {
    "collapsed": true
   },
   "outputs": [],
   "source": [
    "rv = gamma(a)\n",
    "ax.plot(x, rv.pdf(x), 'k-', lw=2, label='frozen pdf')\n",
    "\n",
    "vals = gamma.ppf([0.001, 0.5, 0.999], a)\n",
    "np.allclose([0.001, 0.5, 0.999], gamma.cdf(vals, a))\n",
    "\n",
    "r = gamma.rvs(a, size=1000)\n",
    "\n",
    "ax.hist(r, normed=True, histtype='stepfilled', alpha=0.5)\n",
    "ax.legend(loc='best', frameon=False)\n",
    "plt.show()"
   ]
  },
  {
   "cell_type": "code",
   "execution_count": null,
   "metadata": {},
   "outputs": [],
   "source": [
    "pred = .8\n",
    "\n",
    "X = z[(z[0]<=pred + .05) & (z[0]>pred - .05)]['diff']\n",
    "\n",
    "fit_alpha, fit_loc, fit_beta=gamma.fit(X)\n",
    "print(fit_alpha, fit_loc, fit_beta)\n",
    "# (5.0833692504230008, 100.08697963283467, 21.739518937816108)\n",
    "\n",
    "#print(alpha, loc, beta)"
   ]
  },
  {
   "cell_type": "code",
   "execution_count": null,
   "metadata": {
    "scrolled": true
   },
   "outputs": [],
   "source": [
    "d = gamma.rvs(fit_alpha, loc=fit_loc, scale=fit_beta, size=700)\n",
    "\n",
    "h = plt.hist(X, bins = 10,color='blue')"
   ]
  },
  {
   "cell_type": "code",
   "execution_count": null,
   "metadata": {},
   "outputs": [],
   "source": [
    "h = plt.hist(d, bins = 10,color='blue')"
   ]
  },
  {
   "cell_type": "code",
   "execution_count": null,
   "metadata": {},
   "outputs": [],
   "source": [
    "plt.hist(df['hand strength pf'] ** 2, bins = 20, color ='blue')"
   ]
  },
  {
   "cell_type": "code",
   "execution_count": null,
   "metadata": {},
   "outputs": [],
   "source": [
    "plt.hist(df['hand strength rv'] ** 2, bins = 20, color ='blue')"
   ]
  },
  {
   "cell_type": "code",
   "execution_count": null,
   "metadata": {
    "collapsed": true
   },
   "outputs": [],
   "source": []
  },
  {
   "cell_type": "code",
   "execution_count": null,
   "metadata": {},
   "outputs": [],
   "source": [
    "gamma.pdf(0,fit_alpha, loc=fit_loc, scale=fit_beta)"
   ]
  },
  {
   "cell_type": "code",
   "execution_count": null,
   "metadata": {
    "collapsed": true
   },
   "outputs": [],
   "source": [
    "pfequity = pd.read_csv('./tables/totalequity.csv')#adjust pfequity from 0-1\n",
    "pfequity = pfequity.drop('Unnamed: 0', axis = 1)\n",
    "pfequity['1'] = pfequity['1'] - pfequity['1'].min()\n",
    "pfequity['1'] = pfequity['1']/pfequity['1'].max()\n",
    "pfequity = pfequity.set_index(['0'])\n",
    "\n",
    "allpfequity = pd.read_csv('./tables/allequity.csv')\n",
    "allpfequity = allpfequity.set_index('0')"
   ]
  },
  {
   "cell_type": "code",
   "execution_count": null,
   "metadata": {},
   "outputs": [],
   "source": [
    "print(pfequity)"
   ]
  },
  {
   "cell_type": "code",
   "execution_count": 9,
   "metadata": {
    "collapsed": true
   },
   "outputs": [],
   "source": [
    "import itertools\n",
    "import tools\n",
    "import deck as dk"
   ]
  },
  {
   "cell_type": "code",
   "execution_count": 133,
   "metadata": {},
   "outputs": [
    {
     "name": "stdout",
     "output_type": "stream",
     "text": [
      "          num\n",
      "72o  0.000000\n",
      "82o  0.005952\n",
      "62o  0.011905\n",
      "32o  0.017857\n",
      "83o  0.023810\n",
      "92o  0.029762\n",
      "42o  0.035714\n",
      "73o  0.041667\n",
      "52o  0.047619\n",
      "93o  0.053571\n",
      "T2o  0.059524\n",
      "94o  0.065476\n",
      "63o  0.071429\n",
      "T3o  0.077381\n",
      "84o  0.083333\n",
      "43o  0.089286\n",
      "T4o  0.095238\n",
      "74o  0.101190\n",
      "J2o  0.107143\n",
      "53o  0.113095\n",
      "T5o  0.119048\n",
      "95o  0.125000\n",
      "J3o  0.130952\n",
      "64o  0.136905\n",
      "72s  0.142857\n",
      "85o  0.148810\n",
      "J4o  0.154762\n",
      "75o  0.160714\n",
      "54o  0.166667\n",
      "82s  0.172619\n",
      "..        ...\n",
      "KJo  0.827381\n",
      "A7s  0.833333\n",
      "A9o  0.839286\n",
      "KTs  0.845238\n",
      "22   0.851190\n",
      "A8s  0.857143\n",
      "KQo  0.863095\n",
      "KJs  0.869048\n",
      "33   0.875000\n",
      "A9s  0.880952\n",
      "ATo  0.886905\n",
      "44   0.892857\n",
      "KQs  0.898810\n",
      "55   0.904762\n",
      "ATs  0.910714\n",
      "AJo  0.916667\n",
      "66   0.922619\n",
      "AJs  0.928571\n",
      "77   0.934524\n",
      "AQo  0.940476\n",
      "88   0.946429\n",
      "AQs  0.952381\n",
      "AKo  0.958333\n",
      "99   0.964286\n",
      "AKs  0.970238\n",
      "TT   0.976190\n",
      "JJ   0.982143\n",
      "QQ   0.988095\n",
      "KK   0.994048\n",
      "AA   1.000000\n",
      "\n",
      "[169 rows x 1 columns]\n"
     ]
    },
    {
     "data": {
      "text/plain": [
       "[<matplotlib.lines.Line2D at 0x123cf1eb8>]"
      ]
     },
     "execution_count": 133,
     "metadata": {},
     "output_type": "execute_result"
    },
    {
     "data": {
      "image/png": "[encoded data removed]",
      "text/plain": [
       "<matplotlib.figure.Figure at 0x1266ee0f0>"
      ]
     },
     "metadata": {},
     "output_type": "display_data"
    }
   ],
   "source": [
    "from collections import Counter\n",
    "startingsimplehands = []\n",
    "for hand in data['hand']:  \n",
    "    startingsimplehands.append(tools.simplehand([hand[2:4],hand[8:10]]))\n",
    "            \n",
    "startingsimplehands = Counter(startingsimplehands)\n",
    "startingsimplehands = dict(startingsimplehands)\n",
    "startingsimplehands = pd.Series(startingsimplehands)\n",
    "startingsimplehands = startingsimplehands.astype(float)\n",
    "for i in range(len(startingsimplehands.index)):\n",
    "    if startingsimplehands.index[i][-1] == 'o':\n",
    "        startingsimplehands[i] = startingsimplehands[i]/12.0\n",
    "    elif startingsimplehands.index[i][-1] == 's':\n",
    "        startingsimplehands[i] = startingsimplehands[i]/4.0\n",
    "    else:\n",
    "        startingsimplehands[i] = startingsimplehands[i]/6.0\n",
    "for i in range(len(startingsimplehands.index)):\n",
    "    startingsimplehands[i] = startingsimplehands[i]/max(startingsimplehands)\n",
    "\n",
    "allequity = pd.read_csv('./tables/allequity.csv')\n",
    "allequity = allequity.set_index(['0'])\n",
    "\n",
    "for handc in allequity.columns:\n",
    "    for handr in allequity.index:\n",
    "        allequity.at[handr, handc] = allequity.at[handr, handc] * startingsimplehands[handr]\n",
    "        if handr[-1] == 'o':\n",
    "            allequity.at[handr, handc] = allequity.at[handr, handc] * 12\n",
    "        if handr[-1] == 's':\n",
    "            allequity.at[handr, handc] = allequity.at[handr, handc] * 4\n",
    "        else:\n",
    "            allequity.at[handr, handc] = allequity.at[handr, handc] * 6\n",
    "n = allequity.sum()# - min(allequity.sum())\n",
    "n = n/max(n)\n",
    "n = n.sort_values()\n",
    "\n",
    "n.to_csv('adjpfrank.csv')\n",
    "n = pd.DataFrame(n.sort_values())\n",
    "n['num'] = np.arange(len(n[0]))\n",
    "n['num'] = n['num']/max(n['num'])\n",
    "n = n.drop(0, axis = 1)\n",
    "print(n)\n",
    "n.to_csv('linearrank.csv')\n",
    "plt.plot(n['num'], n['num']/max(n['num']))\n",
    "\n",
    "    "
   ]
  },
  {
   "cell_type": "code",
   "execution_count": 11,
   "metadata": {
    "collapsed": true
   },
   "outputs": [],
   "source": [
    "def handprobability():\n",
    "    startinghands = []\n",
    "    d = dk.Deck()\n",
    "    startinghands += itertools.combinations(d.deck, 2)\n",
    "    startinghands = [str(h[0]) + str(h[1]) for h in startinghands]\n",
    "    startinghands = pd.DataFrame(startinghands)\n",
    "    startinghands['rank'] = [[h[0:2],h[2:4]] for h in startinghands[0]]\n",
    "    startinghands['rank'] = [tools.startinghandsrank(h) for h in startinghands['rank']]\n",
    "    startinghands = startinghands.set_index(0)\n",
    "    startinghands = startinghands.sort_values('rank', ascending = False)\n",
    "    startinghands['num'] = np.arange(len(startinghands['rank']))\n",
    "    plt.plot(startinghands['num'], startinghands['rank'])\n",
    "    return startinghands"
   ]
  },
  {
   "cell_type": "code",
   "execution_count": 148,
   "metadata": {},
   "outputs": [
    {
     "name": "stdout",
     "output_type": "stream",
     "text": [
      "0.994047619048\n"
     ]
    }
   ],
   "source": [
    "print(n.at['KK','num'])"
   ]
  },
  {
   "cell_type": "code",
   "execution_count": null,
   "metadata": {
    "scrolled": true
   },
   "outputs": [],
   "source": [
    "for i in range(len(data['hand strength pf'])):\n",
    "    data.at[i, 'hand strength pf'] = n.at[tools.simplehand([data['hand'][i][2:4],data['hand'][i][8:10]]),'num']\n"
   ]
  },
  {
   "cell_type": "code",
   "execution_count": null,
   "metadata": {},
   "outputs": [],
   "source": [
    "data['hand strength pf']"
   ]
  },
  {
   "cell_type": "code",
   "execution_count": 83,
   "metadata": {},
   "outputs": [
    {
     "name": "stdout",
     "output_type": "stream",
     "text": [
      "          rank   num\n",
      "0                   \n",
      "AsAd  1.000000     0\n",
      "AsAh  1.000000     1\n",
      "AsAc  1.000000     2\n",
      "AdAc  1.000000     3\n",
      "AhAd  1.000000     4\n",
      "AhAc  1.000000     5\n",
      "KsKc  0.949462     6\n",
      "KdKc  0.949462     7\n",
      "KsKh  0.949462     8\n",
      "KhKc  0.949462     9\n",
      "KsKd  0.949462    10\n",
      "KhKd  0.949462    11\n",
      "QdQc  0.904836    12\n",
      "QsQh  0.904836    13\n",
      "QhQd  0.904836    14\n",
      "QhQc  0.904836    15\n",
      "QsQc  0.904836    16\n",
      "QsQd  0.904836    17\n",
      "JsJc  0.860323    18\n",
      "JsJd  0.860323    19\n",
      "JsJh  0.860323    20\n",
      "JhJd  0.860323    21\n",
      "JhJc  0.860323    22\n",
      "JdJc  0.860323    23\n",
      "TsTd  0.815565    24\n",
      "TsTh  0.815565    25\n",
      "TsTc  0.815565    26\n",
      "ThTd  0.815565    27\n",
      "TdTc  0.815565    28\n",
      "ThTc  0.815565    29\n",
      "...        ...   ...\n",
      "2d6c  0.033024  1296\n",
      "6h2c  0.033024  1297\n",
      "2s6h  0.033024  1298\n",
      "2s6c  0.033024  1299\n",
      "6h2d  0.033024  1300\n",
      "2s6d  0.033024  1301\n",
      "2h4d  0.015764  1302\n",
      "2h4c  0.015764  1303\n",
      "2d4c  0.015764  1304\n",
      "4h2d  0.015764  1305\n",
      "4s2h  0.015764  1306\n",
      "2s4d  0.015764  1307\n",
      "4s2d  0.015764  1308\n",
      "4h2c  0.015764  1309\n",
      "4s2c  0.015764  1310\n",
      "4d2c  0.015764  1311\n",
      "2s4c  0.015764  1312\n",
      "2s4h  0.015764  1313\n",
      "2s3h  0.000000  1314\n",
      "2h3c  0.000000  1315\n",
      "2s3d  0.000000  1316\n",
      "3s2h  0.000000  1317\n",
      "3s2c  0.000000  1318\n",
      "2h3d  0.000000  1319\n",
      "3d2c  0.000000  1320\n",
      "3s2d  0.000000  1321\n",
      "3h2d  0.000000  1322\n",
      "3h2c  0.000000  1323\n",
      "2d3c  0.000000  1324\n",
      "2s3c  0.000000  1325\n",
      "\n",
      "[1326 rows x 2 columns]\n"
     ]
    },
    {
     "data": {
      "image/png": "[encoded data removed]",
      "text/plain": [
       "<matplotlib.figure.Figure at 0x12695cf60>"
      ]
     },
     "metadata": {},
     "output_type": "display_data"
    }
   ],
   "source": [
    "k = handprobability()\n",
    "print(k)\n"
   ]
  },
  {
   "cell_type": "code",
   "execution_count": null,
   "metadata": {
    "collapsed": true
   },
   "outputs": [],
   "source": [
    "pfequity = pfequity.sort_values('1', ascending = False)"
   ]
  },
  {
   "cell_type": "code",
   "execution_count": null,
   "metadata": {
    "collapsed": true
   },
   "outputs": [],
   "source": [
    "pfequity['rank'] = np.arange(len(pfequity['1']))"
   ]
  },
  {
   "cell_type": "code",
   "execution_count": null,
   "metadata": {},
   "outputs": [],
   "source": [
    "pfequity"
   ]
  },
  {
   "cell_type": "code",
   "execution_count": null,
   "metadata": {},
   "outputs": [],
   "source": [
    "plt.plot(pfequity['rank'], pfequity['1'])"
   ]
  },
  {
   "cell_type": "code",
   "execution_count": null,
   "metadata": {},
   "outputs": [],
   "source": [
    "print(df.corr()['hand strength pf'].sort_values())"
   ]
  },
  {
   "cell_type": "code",
   "execution_count": null,
   "metadata": {
    "collapsed": true
   },
   "outputs": [],
   "source": []
  }
 ],
 "metadata": {
  "kernelspec": {
   "display_name": "Python 3",
   "language": "python",
   "name": "python3"
  },
  "language_info": {
   "codemirror_mode": {
    "name": "ipython",
    "version": 3
   },
   "file_extension": ".py",
   "mimetype": "text/x-python",
   "name": "python",
   "nbconvert_exporter": "python",
   "pygments_lexer": "ipython3",
   "version": "3.6.3"
  }
 },
 "nbformat": 4,
 "nbformat_minor": 2
}
